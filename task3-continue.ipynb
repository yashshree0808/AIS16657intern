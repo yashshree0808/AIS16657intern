{
 "cells": [
  {
   "cell_type": "markdown",
   "id": "ed9ca25f-5775-4b8a-9715-69cf9a8d9d03",
   "metadata": {},
   "source": [
    "#continue statement\n",
    "used to skip current iteration & continue to next iteration.it will not stop loop.\n",
    "if we used \"continue\" to any condition and it is true then its skip that for one time"
   ]
  },
  {
   "cell_type": "code",
   "execution_count": 8,
   "id": "593ce17b-e265-4ec5-8c7c-e3186fe5470a",
   "metadata": {},
   "outputs": [
    {
     "name": "stdout",
     "output_type": "stream",
     "text": [
      "1234578910"
     ]
    }
   ],
   "source": [
    "#loop from 1 to 10\n",
    "for i in range (1,11):\n",
    "    if i==6:\n",
    "       continue \n",
    "    else:\n",
    "        print(i,end=\"\")\n",
    "        "
   ]
  },
  {
   "cell_type": "code",
   "execution_count": 11,
   "id": "af07556f-4439-4a63-a0be-a66f50de7d7b",
   "metadata": {},
   "outputs": [
    {
     "name": "stdout",
     "output_type": "stream",
     "text": [
      "banana mango "
     ]
    }
   ],
   "source": [
    "l=[\"banana\",\"apple\",\"mango\"]\n",
    "for i in l:\n",
    "    if i==\"apple\":\n",
    "        continue\n",
    "    else:\n",
    "        print(i,end=\" \")"
   ]
  },
  {
   "cell_type": "code",
   "execution_count": 1,
   "id": "dce3abdd-a425-4127-afb9-6a9d60e2477f",
   "metadata": {},
   "outputs": [
    {
     "name": "stdout",
     "output_type": "stream",
     "text": [
      "1\n",
      "2\n",
      "3\n",
      "4\n",
      "6\n",
      "7\n",
      "8\n",
      "9\n",
      "11\n",
      "12\n",
      "13\n",
      "14\n",
      "16\n",
      "17\n",
      "18\n",
      "19\n"
     ]
    }
   ],
   "source": [
    "for i in range(0,21):\n",
    "    if i%5==0:\n",
    "        continue\n",
    "    print(i)"
   ]
  },
  {
   "cell_type": "code",
   "execution_count": null,
   "id": "3d8e1326-c192-45bc-9431-f0fcd5eb91aa",
   "metadata": {},
   "outputs": [],
   "source": []
  },
  {
   "cell_type": "code",
   "execution_count": null,
   "id": "058f03e0-1589-4798-b2d7-70464a974120",
   "metadata": {},
   "outputs": [],
   "source": []
  }
 ],
 "metadata": {
  "kernelspec": {
   "display_name": "Python 3 (ipykernel)",
   "language": "python",
   "name": "python3"
  },
  "language_info": {
   "codemirror_mode": {
    "name": "ipython",
    "version": 3
   },
   "file_extension": ".py",
   "mimetype": "text/x-python",
   "name": "python",
   "nbconvert_exporter": "python",
   "pygments_lexer": "ipython3",
   "version": "3.11.7"
  }
 },
 "nbformat": 4,
 "nbformat_minor": 5
}
