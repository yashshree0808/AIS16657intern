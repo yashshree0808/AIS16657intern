{
 "cells": [
  {
   "cell_type": "markdown",
   "id": "190bfdbc-eb73-4081-85ef-de408ef77ffb",
   "metadata": {},
   "source": [
    "#while Loop\r\n",
    "With the while loop we can execute a set of statements as long as a condition is true."
   ]
  },
  {
   "cell_type": "code",
   "execution_count": 1,
   "id": "a312dd9e-1f85-41f4-8c6e-cd0753d3dbf7",
   "metadata": {},
   "outputs": [
    {
     "name": "stdout",
     "output_type": "stream",
     "text": [
      "1 yashshree\n",
      "2 yashshree\n",
      "3 yashshree\n",
      "4 yashshree\n",
      "5 yashshree\n"
     ]
    }
   ],
   "source": [
    "#1\n",
    "num=1\n",
    "while num<=5:\n",
    "    print(num,\"yashshree\")\n",
    "    num=num+1"
   ]
  },
  {
   "cell_type": "code",
   "execution_count": 2,
   "id": "85162621-aa96-4ed1-ac04-5f35fca30064",
   "metadata": {},
   "outputs": [
    {
     "name": "stdout",
     "output_type": "stream",
     "text": [
      "0\n",
      "1\n",
      "2\n",
      "3\n",
      "4\n",
      "5\n",
      "6\n",
      "7\n",
      "8\n",
      "9\n",
      "10\n"
     ]
    }
   ],
   "source": [
    "#2\n",
    "i=0\n",
    "while i<=10:\n",
    "    print(i)\n",
    "    i=i+1"
   ]
  },
  {
   "cell_type": "code",
   "execution_count": 3,
   "id": "632ad102-c0e6-4f19-a1fb-b4ab8597bd19",
   "metadata": {},
   "outputs": [
    {
     "name": "stdout",
     "output_type": "stream",
     "text": [
      "1\n",
      "2\n",
      "3\n",
      "4\n",
      "5\n",
      "i is no longer less than 6\n"
     ]
    }
   ],
   "source": [
    "#3\n",
    "i = 1\n",
    "while i < 6:\n",
    "  print(i)\n",
    "  i += 1\n",
    "else:\n",
    "  print(\"i is no longer less than 6\")"
   ]
  },
  {
   "cell_type": "markdown",
   "id": "92cbddac-38be-4f5c-ae70-2c7855cb43a8",
   "metadata": {},
   "source": [
    "#The continue Statement\n",
    "With the continue statement we can stop the current iteration, and continue with the next:"
   ]
  },
  {
   "cell_type": "code",
   "execution_count": 4,
   "id": "902c48c6-798b-4ff4-b58f-2d9bbdcdabd7",
   "metadata": {},
   "outputs": [
    {
     "name": "stdout",
     "output_type": "stream",
     "text": [
      "1\n",
      "2\n",
      "4\n",
      "5\n",
      "6\n"
     ]
    }
   ],
   "source": [
    "#4\n",
    "i = 0\n",
    "while i < 6:\n",
    "  i += 1\n",
    "  if i == 3:\n",
    "    continue\n",
    "  print(i)\n"
   ]
  },
  {
   "cell_type": "code",
   "execution_count": 5,
   "id": "b0600a21-e808-4a2a-a7b3-a23ba56ac1b8",
   "metadata": {},
   "outputs": [
    {
     "name": "stdout",
     "output_type": "stream",
     "text": [
      "sum of first 5 nos= 15\n"
     ]
    }
   ],
   "source": [
    "#5\n",
    "#sum of first 5 nos:\n",
    "s=0\n",
    "i=1\n",
    "while i<=5:\n",
    "    s=s+i\n",
    "    i=i+1\n",
    "print(\"sum of first 5 nos=\",s)   "
   ]
  },
  {
   "cell_type": "code",
   "execution_count": 7,
   "id": "26e7fa9b-64ba-4e88-9a5c-37a78377902c",
   "metadata": {},
   "outputs": [
    {
     "name": "stdout",
     "output_type": "stream",
     "text": [
      "sum 385\n"
     ]
    }
   ],
   "source": [
    "#6\n",
    "#calculate 1+4+9+...+100\n",
    "s=0\n",
    "i=1\n",
    "while i<=10:\n",
    "    sq=i*i\n",
    "    s=s+sq\n",
    "    i=i+1\n",
    "print(\"sum\",s)    \n",
    "    "
   ]
  },
  {
   "cell_type": "code",
   "execution_count": 1,
   "id": "ad606a82-06a2-44e9-8ee8-9ed585736d13",
   "metadata": {},
   "outputs": [
    {
     "name": "stdout",
     "output_type": "stream",
     "text": [
      "The addition is 55\n"
     ]
    }
   ],
   "source": [
    "#7\n",
    "n=10\n",
    "add=0\n",
    "i=1\n",
    "while i<=n:\n",
    "    add=add+i\n",
    "    i=i+1\n",
    "print(\"The addition is\",add)"
   ]
  },
  {
   "cell_type": "code",
   "execution_count": 3,
   "id": "b887bcd6-5411-4453-9bf7-f8a8832f5a38",
   "metadata": {},
   "outputs": [
    {
     "name": "stdout",
     "output_type": "stream",
     "text": [
      "1\n",
      "4\n",
      "9\n",
      "25\n",
      "36\n",
      "49\n",
      "64\n",
      "81\n",
      "100\n"
     ]
    }
   ],
   "source": [
    "#8\n",
    "nums=[1,4,9,25,36,49,64,81,100]\n",
    "idx=0\n",
    "while idx<len(nums):\n",
    "    print(nums[idx])\n",
    "    idx+=1"
   ]
  },
  {
   "cell_type": "code",
   "execution_count": 4,
   "id": "0bf00bba-82ea-4dbe-a481-bae54b15ac27",
   "metadata": {},
   "outputs": [
    {
     "name": "stdin",
     "output_type": "stream",
     "text": [
      "enter a number 1221\n"
     ]
    },
    {
     "name": "stdout",
     "output_type": "stream",
     "text": [
      "given no is palindrome\n"
     ]
    }
   ],
   "source": [
    "#9\n",
    "#check palindrome or not \n",
    "n=int(input(\"enter a number\"))\n",
    "sum=0\n",
    "temp=n\n",
    "while n>0:\n",
    "    d=n%10\n",
    "    sum=sum*10+d\n",
    "    n=n//10\n",
    "if(sum==temp):\n",
    "    print(\"given no is palindrome\")\n",
    "else:\n",
    "    print(\"given no is not palindrome\")\n",
    "    "
   ]
  },
  {
   "cell_type": "code",
   "execution_count": 5,
   "id": "f48f98b2-88fb-40cf-925c-f1b237cefb35",
   "metadata": {},
   "outputs": [
    {
     "name": "stdin",
     "output_type": "stream",
     "text": [
      "enter a number 856\n"
     ]
    },
    {
     "name": "stdout",
     "output_type": "stream",
     "text": [
      "given no is not armstrong\n"
     ]
    }
   ],
   "source": [
    "#10\n",
    "#check armstrong or not\n",
    "n=int(input(\"enter a number\"))\n",
    "sum=0\n",
    "temp=n\n",
    "while n>0:\n",
    "    d=n%10\n",
    "    sum=sum+d**3\n",
    "    n=n//10\n",
    "if(sum==temp):\n",
    "    print(\"given no is armstrong\")\n",
    "else:\n",
    "    print(\"given no is not armstrong\")\n"
   ]
  }
 ],
 "metadata": {
  "kernelspec": {
   "display_name": "Python 3 (ipykernel)",
   "language": "python",
   "name": "python3"
  },
  "language_info": {
   "codemirror_mode": {
    "name": "ipython",
    "version": 3
   },
   "file_extension": ".py",
   "mimetype": "text/x-python",
   "name": "python",
   "nbconvert_exporter": "python",
   "pygments_lexer": "ipython3",
   "version": "3.11.7"
  }
 },
 "nbformat": 4,
 "nbformat_minor": 5
}
