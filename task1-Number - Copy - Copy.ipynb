{
 "cells": [
  {
   "cell_type": "markdown",
   "id": "f190c821-dfd6-44f4-842f-9b19d6dc079d",
   "metadata": {},
   "source": [
    "#Numbers\n",
    "There are three numeric types in Python:\r",
    "\r\n",
    "int\r\n",
    "float\r\n",
    "complex\r\n",
    "Variables of numeric types are created when you assign a value to them:\n"
   ]
  },
  {
   "cell_type": "code",
   "execution_count": 1,
   "id": "b75440bb-7bb0-450c-8e85-41f391919c5a",
   "metadata": {},
   "outputs": [
    {
     "name": "stdout",
     "output_type": "stream",
     "text": [
      "<class 'int'>\n"
     ]
    }
   ],
   "source": [
    "#integer\n",
    "x=20\n",
    "print(type(x))\n"
   ]
  },
  {
   "cell_type": "code",
   "execution_count": 2,
   "id": "4ff1a4ed-66ee-4c91-9117-662f356be318",
   "metadata": {},
   "outputs": [
    {
     "name": "stdout",
     "output_type": "stream",
     "text": [
      "<class 'float'>\n"
     ]
    }
   ],
   "source": [
    "#float\n",
    "y=2.2\n",
    "print(type(y))"
   ]
  },
  {
   "cell_type": "code",
   "execution_count": 5,
   "id": "589d4f85-9ff7-4c3a-976c-b252f1b98bb6",
   "metadata": {},
   "outputs": [
    {
     "name": "stdout",
     "output_type": "stream",
     "text": [
      "<class 'complex'>\n"
     ]
    }
   ],
   "source": [
    "#complex\n",
    "z=1j\n",
    "print(type(z))"
   ]
  },
  {
   "cell_type": "markdown",
   "id": "01085437-e9ec-4f72-8a83-7a4d9074e5e5",
   "metadata": {},
   "source": [
    "#Integer\r\n",
    "Int, or integer, is a whole number, positive or negative, without decimals, of unlimited length."
   ]
  },
  {
   "cell_type": "code",
   "execution_count": 6,
   "id": "711dee71-c468-4afd-97ad-0bbbea6f7afc",
   "metadata": {},
   "outputs": [
    {
     "name": "stdout",
     "output_type": "stream",
     "text": [
      "<class 'int'>\n"
     ]
    }
   ],
   "source": [
    "x=1\n",
    "print(type(x))\n"
   ]
  },
  {
   "cell_type": "code",
   "execution_count": 7,
   "id": "f69ba7a1-224a-48a4-9947-0aaeb2640129",
   "metadata": {},
   "outputs": [
    {
     "name": "stdout",
     "output_type": "stream",
     "text": [
      "<class 'int'>\n"
     ]
    }
   ],
   "source": [
    "y=4576789090389\n",
    "print(type(y))"
   ]
  },
  {
   "cell_type": "code",
   "execution_count": 8,
   "id": "65eef3ca-b490-4206-bf50-d70b9a56d5b3",
   "metadata": {},
   "outputs": [
    {
     "name": "stdout",
     "output_type": "stream",
     "text": [
      "<class 'int'>\n"
     ]
    }
   ],
   "source": [
    "z=-356778\n",
    "print(type(z))"
   ]
  },
  {
   "cell_type": "markdown",
   "id": "8253e722-b84f-408a-8224-c0e8b0e6c4b0",
   "metadata": {},
   "source": [
    "#Float\r\n",
    "Float, or \"floating point number\" is a number, positive or negative, containing one or more decimals."
   ]
  },
  {
   "cell_type": "code",
   "execution_count": 1,
   "id": "2cbca913-533b-4b94-a367-802ef49f246c",
   "metadata": {},
   "outputs": [
    {
     "name": "stdout",
     "output_type": "stream",
     "text": [
      "<class 'float'>\n"
     ]
    }
   ],
   "source": [
    "x=1.10\n",
    "print(type(x))"
   ]
  },
  {
   "cell_type": "code",
   "execution_count": 2,
   "id": "411e2769-41e2-4fc1-bda5-11a50f9c94c0",
   "metadata": {},
   "outputs": [
    {
     "name": "stdout",
     "output_type": "stream",
     "text": [
      "<class 'float'>\n"
     ]
    }
   ],
   "source": [
    "y=1.0\n",
    "print(type(y))"
   ]
  },
  {
   "cell_type": "code",
   "execution_count": 3,
   "id": "e2f5663e-fedb-4683-bdcb-da0b36aec7c9",
   "metadata": {},
   "outputs": [
    {
     "name": "stdout",
     "output_type": "stream",
     "text": [
      "<class 'float'>\n"
     ]
    }
   ],
   "source": [
    "z=-22.2\n",
    "print(type(z))"
   ]
  },
  {
   "cell_type": "markdown",
   "id": "e6e18e6a-035f-42f4-892d-68d8f2e0ff73",
   "metadata": {},
   "source": [
    "#Complex\r\n",
    "Complex numbers are written with a \"j\" as the imaginary part:"
   ]
  },
  {
   "cell_type": "code",
   "execution_count": 4,
   "id": "eec6b9aa-8c5a-4863-80df-a824ee566e34",
   "metadata": {},
   "outputs": [
    {
     "name": "stdout",
     "output_type": "stream",
     "text": [
      "<class 'complex'>\n"
     ]
    }
   ],
   "source": [
    "x=3+5j\n",
    "print(type(x))"
   ]
  },
  {
   "cell_type": "code",
   "execution_count": 5,
   "id": "6945f2fa-ef15-4b99-91db-067b389276e4",
   "metadata": {},
   "outputs": [
    {
     "name": "stdout",
     "output_type": "stream",
     "text": [
      "<class 'complex'>\n"
     ]
    }
   ],
   "source": [
    "y=6j\n",
    "print(type(y))\n"
   ]
  },
  {
   "cell_type": "code",
   "execution_count": 6,
   "id": "6b6ba88b-c5c1-4907-a679-4bae3005f9a8",
   "metadata": {},
   "outputs": [
    {
     "name": "stdout",
     "output_type": "stream",
     "text": [
      "<class 'complex'>\n"
     ]
    }
   ],
   "source": [
    "z=-6j\n",
    "print(type(z))"
   ]
  },
  {
   "cell_type": "code",
   "execution_count": null,
   "id": "ded0d881-ceb8-4b16-aa50-2a32bd90fc1b",
   "metadata": {},
   "outputs": [],
   "source": []
  }
 ],
 "metadata": {
  "kernelspec": {
   "display_name": "Python 3 (ipykernel)",
   "language": "python",
   "name": "python3"
  },
  "language_info": {
   "codemirror_mode": {
    "name": "ipython",
    "version": 3
   },
   "file_extension": ".py",
   "mimetype": "text/x-python",
   "name": "python",
   "nbconvert_exporter": "python",
   "pygments_lexer": "ipython3",
   "version": "3.11.7"
  }
 },
 "nbformat": 4,
 "nbformat_minor": 5
}
