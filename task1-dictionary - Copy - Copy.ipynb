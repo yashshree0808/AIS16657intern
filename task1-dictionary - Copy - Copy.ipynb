{
 "cells": [
  {
   "cell_type": "code",
   "execution_count": null,
   "id": "e4f5462e-ab0a-46a0-9ece-47b74181f7b9",
   "metadata": {},
   "outputs": [],
   "source": [
    "#Dictionary\n",
    "Dictionary are used to store data values in key:value pairs.\n",
    "A dictionary is a collection which is ordered*,changable and do not allow duplicates.\n",
    "Dictionaries are written with curly brackets,and have keys and values:\n",
    "Dictionaries are kind of hashtable.A dictionary stores keys and values pair."
   ]
  },
  {
   "cell_type": "code",
   "execution_count": 1,
   "id": "6450626a-9c8f-4c83-9151-c27671a451d4",
   "metadata": {},
   "outputs": [
    {
     "name": "stdout",
     "output_type": "stream",
     "text": [
      "{'roll no': 12, 'name': 'yashshree', 'city': 'pune'}\n"
     ]
    }
   ],
   "source": [
    "student1={\"roll no\":12,\"name\":\"yashshree\",\"city\":\"pune\"}\n",
    "print(student1)\n"
   ]
  },
  {
   "cell_type": "code",
   "execution_count": 2,
   "id": "f992bbae-6864-4abe-902d-6555224c1aea",
   "metadata": {},
   "outputs": [
    {
     "name": "stdout",
     "output_type": "stream",
     "text": [
      "<class 'dict'>\n"
     ]
    }
   ],
   "source": [
    "print(type(student1))"
   ]
  },
  {
   "cell_type": "code",
   "execution_count": 4,
   "id": "c236ee2c-fa65-4064-a62f-fc42215ff604",
   "metadata": {},
   "outputs": [
    {
     "name": "stdout",
     "output_type": "stream",
     "text": [
      "12\n"
     ]
    }
   ],
   "source": [
    "print(student1[\"roll no\"])"
   ]
  },
  {
   "cell_type": "code",
   "execution_count": 5,
   "id": "b2c77dcd-145b-42f6-9e4a-57079b9efe34",
   "metadata": {},
   "outputs": [
    {
     "name": "stdout",
     "output_type": "stream",
     "text": [
      "yashshree\n"
     ]
    }
   ],
   "source": [
    "print(student1[\"name\"])"
   ]
  },
  {
   "cell_type": "code",
   "execution_count": 6,
   "id": "b6bf0c5e-c55f-4f43-9a07-01e95bf16e92",
   "metadata": {},
   "outputs": [
    {
     "name": "stdout",
     "output_type": "stream",
     "text": [
      "pune\n"
     ]
    }
   ],
   "source": [
    "print(student1[\"city\"])"
   ]
  },
  {
   "cell_type": "code",
   "execution_count": 7,
   "id": "e111aca5-d11b-4e6d-8515-146fafc323d1",
   "metadata": {},
   "outputs": [
    {
     "name": "stdout",
     "output_type": "stream",
     "text": [
      "dict_keys(['roll no', 'name', 'city'])\n"
     ]
    }
   ],
   "source": [
    "print(student1.keys())"
   ]
  },
  {
   "cell_type": "code",
   "execution_count": 8,
   "id": "a28bf8eb-3ae9-4fea-9383-46c55254ce97",
   "metadata": {},
   "outputs": [
    {
     "name": "stdout",
     "output_type": "stream",
     "text": [
      "dict_values([12, 'yashshree', 'pune'])\n"
     ]
    }
   ],
   "source": [
    "print(student1.values())"
   ]
  },
  {
   "cell_type": "code",
   "execution_count": 9,
   "id": "1fda37df-e053-4dbe-b364-82f032429979",
   "metadata": {},
   "outputs": [
    {
     "data": {
      "text/plain": [
       "12"
      ]
     },
     "execution_count": 9,
     "metadata": {},
     "output_type": "execute_result"
    }
   ],
   "source": [
    "student1[\"roll no\"]"
   ]
  },
  {
   "cell_type": "code",
   "execution_count": 10,
   "id": "390b8883-2360-42f8-8f95-d78f2c2ff3a7",
   "metadata": {},
   "outputs": [
    {
     "name": "stdout",
     "output_type": "stream",
     "text": [
      "[11, 12, 13]\n"
     ]
    }
   ],
   "source": [
    "studentlist={\"rollno\":[11,12,13],\"name\":[\"yashshree\",\"shruti\",\"sweety\"],\"city\":[\"satara\",\"pune\",\"mumbai\"]}\n",
    "print(studentlist[\"rollno\"])"
   ]
  }
 ],
 "metadata": {
  "kernelspec": {
   "display_name": "Python 3 (ipykernel)",
   "language": "python",
   "name": "python3"
  },
  "language_info": {
   "codemirror_mode": {
    "name": "ipython",
    "version": 3
   },
   "file_extension": ".py",
   "mimetype": "text/x-python",
   "name": "python",
   "nbconvert_exporter": "python",
   "pygments_lexer": "ipython3",
   "version": "3.11.7"
  }
 },
 "nbformat": 4,
 "nbformat_minor": 5
}
