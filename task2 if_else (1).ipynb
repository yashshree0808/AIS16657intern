{
 "cells": [
  {
   "cell_type": "code",
   "execution_count": null,
   "id": "af00ed75-f2c8-4ccb-8306-bfc2785d6549",
   "metadata": {},
   "outputs": [],
   "source": [
    "#if_else\n",
    "The else keyword catches anything which isn't caught by the preceding conditions."
   ]
  },
  {
   "cell_type": "code",
   "execution_count": 1,
   "id": "f54cee8f-e222-4bbd-860d-5e97e12fbbe6",
   "metadata": {},
   "outputs": [
    {
     "name": "stdout",
     "output_type": "stream",
     "text": [
      "a is less than b\n"
     ]
    }
   ],
   "source": [
    "a=9\n",
    "b=10\n",
    "if(a>b):\n",
    "    print(\"a is greater than b\")\n",
    "else:\n",
    "    print(\"a is less than b\")"
   ]
  },
  {
   "cell_type": "code",
   "execution_count": 2,
   "id": "51b9a654-2d1d-45c4-a33b-d616e26d4794",
   "metadata": {},
   "outputs": [
    {
     "name": "stdout",
     "output_type": "stream",
     "text": [
      "a is greater than b\n"
     ]
    }
   ],
   "source": [
    "a=10\n",
    "b=9\n",
    "if(a<b):\n",
    "    print(\"a is less than b\")\n",
    "else:\n",
    "    print(\"a is greater than b\")\n",
    "    "
   ]
  },
  {
   "cell_type": "code",
   "execution_count": 3,
   "id": "bd4cadd1-7139-4e3b-bb28-2ba5acd99987",
   "metadata": {},
   "outputs": [
    {
     "name": "stdout",
     "output_type": "stream",
     "text": [
      "a is not equal to b\n"
     ]
    }
   ],
   "source": [
    "a=10\n",
    "b=9\n",
    "if(a==b):\n",
    "    print(\"a is equal to b\")\n",
    "else:\n",
    "    print(\"a is not equal to b\")"
   ]
  },
  {
   "cell_type": "code",
   "execution_count": 4,
   "id": "a6ed8809-1f30-421b-82a1-3cea6ad5611a",
   "metadata": {},
   "outputs": [
    {
     "name": "stdout",
     "output_type": "stream",
     "text": [
      "a is equal to b\n"
     ]
    }
   ],
   "source": [
    "a=10\n",
    "b=10\n",
    "if(a!=b):\n",
    "    print(\"a is not equal to b\")\n",
    "else:\n",
    "    print(\"a is equal to b\")\n",
    "    "
   ]
  },
  {
   "cell_type": "code",
   "execution_count": 5,
   "id": "6b23da1f-8d3d-4e08-80b1-9e778bda3391",
   "metadata": {},
   "outputs": [
    {
     "name": "stdout",
     "output_type": "stream",
     "text": [
      "even no.\n"
     ]
    }
   ],
   "source": [
    "a=10\n",
    "if(a%2!=0):\n",
    "    print(\"odd no\")\n",
    "else:\n",
    "    print(\"even no.\")"
   ]
  },
  {
   "cell_type": "code",
   "execution_count": 6,
   "id": "e2cbe478-0d01-4711-a108-370a7648598b",
   "metadata": {},
   "outputs": [
    {
     "name": "stdout",
     "output_type": "stream",
     "text": [
      "odd no.\n"
     ]
    }
   ],
   "source": [
    "a=9\n",
    "if(a%2==0):\n",
    "    print(\"even no.\")\n",
    "else:\n",
    "    print(\"odd no.\")"
   ]
  },
  {
   "cell_type": "code",
   "execution_count": 7,
   "id": "ac5ba968-f060-4348-993e-16f3e83c0bdf",
   "metadata": {},
   "outputs": [
    {
     "name": "stdout",
     "output_type": "stream",
     "text": [
      "positive no.\n"
     ]
    }
   ],
   "source": [
    "a=10\n",
    "if(a<0):\n",
    "    print(\"negative no.\")\n",
    "else:\n",
    "    print(\"positive no.\")"
   ]
  },
  {
   "cell_type": "code",
   "execution_count": 8,
   "id": "b5ad3882-643a-4bff-8be2-c5eae8dcc1a7",
   "metadata": {},
   "outputs": [
    {
     "name": "stdout",
     "output_type": "stream",
     "text": [
      "negative no.\n"
     ]
    }
   ],
   "source": [
    "a=-10\n",
    "if(a>0):\n",
    "    print(\"positive no.\")\n",
    "else:\n",
    "    print(\"negative no.\")\n"
   ]
  },
  {
   "cell_type": "code",
   "execution_count": 9,
   "id": "e22558c2-a865-48a2-9993-20dfd78584a3",
   "metadata": {},
   "outputs": [
    {
     "name": "stdout",
     "output_type": "stream",
     "text": [
      "a is greater than or equal to b\n"
     ]
    }
   ],
   "source": [
    "a=15\n",
    "b=10\n",
    "if(a<=b):\n",
    "    print(\"a is less than or equal to b\")\n",
    "else:\n",
    "    print(\"a is greater than or equal to b\")"
   ]
  },
  {
   "cell_type": "code",
   "execution_count": 10,
   "id": "6e22249d-e8cc-4353-8057-058360f24ab4",
   "metadata": {},
   "outputs": [
    {
     "name": "stdout",
     "output_type": "stream",
     "text": [
      "a is less than or equal to b\n"
     ]
    }
   ],
   "source": [
    "a=10\n",
    "b=15\n",
    "if(a>=b):\n",
    "    print(\"a is greater than or equal to b\")\n",
    "else:\n",
    "    print(\"a is less than or equal to b\")"
   ]
  },
  {
   "cell_type": "code",
   "execution_count": null,
   "id": "040f4e9d-f6e0-4433-bca9-ee92c9c4f1c4",
   "metadata": {},
   "outputs": [],
   "source": []
  }
 ],
 "metadata": {
  "kernelspec": {
   "display_name": "Python 3 (ipykernel)",
   "language": "python",
   "name": "python3"
  },
  "language_info": {
   "codemirror_mode": {
    "name": "ipython",
    "version": 3
   },
   "file_extension": ".py",
   "mimetype": "text/x-python",
   "name": "python",
   "nbconvert_exporter": "python",
   "pygments_lexer": "ipython3",
   "version": "3.11.7"
  }
 },
 "nbformat": 4,
 "nbformat_minor": 5
}
