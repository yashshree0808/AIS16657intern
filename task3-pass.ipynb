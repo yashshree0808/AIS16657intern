{
 "cells": [
  {
   "cell_type": "markdown",
   "id": "3167f3a3-f2c2-4928-a10e-b48c29dce733",
   "metadata": {},
   "source": [
    "#pass statement\n",
    "In python programming,the 'pass' statement which can be used as a placeholder for future code.\n"
   ]
  },
  {
   "cell_type": "code",
   "execution_count": 2,
   "id": "593ce17b-e265-4ec5-8c7c-e3186fe5470a",
   "metadata": {},
   "outputs": [
    {
     "name": "stdout",
     "output_type": "stream",
     "text": [
      "hello\n"
     ]
    }
   ],
   "source": [
    "#1\n",
    "n=10\n",
    "if n>10:\n",
    "    pass\n",
    "print(\"hello\")\n"
   ]
  },
  {
   "cell_type": "code",
   "execution_count": 3,
   "id": "af07556f-4439-4a63-a0be-a66f50de7d7b",
   "metadata": {},
   "outputs": [
    {
     "name": "stdout",
     "output_type": "stream",
     "text": [
      "80\n",
      "67\n",
      "fail\n",
      "34\n",
      "78\n",
      "fail\n",
      "33\n"
     ]
    }
   ],
   "source": [
    "#2\n",
    "m=[80,67,34,78,33]\n",
    "for i in m:\n",
    "    if i<35:\n",
    "        pass\n",
    "        print(\"fail\")\n",
    "    print(i)"
   ]
  },
  {
   "cell_type": "code",
   "execution_count": 4,
   "id": "f8089930-b236-44a2-b619-3b87e1f37058",
   "metadata": {},
   "outputs": [
    {
     "name": "stdout",
     "output_type": "stream",
     "text": [
      "b\n",
      "c\n",
      "d\n"
     ]
    }
   ],
   "source": [
    "#2\n",
    "li=[\"a\",\"b\",\"c\",\"d\"]\n",
    "for i in li:\n",
    "    if(i==\"a\"):\n",
    "        pass\n",
    "    else:\n",
    "        print(i)"
   ]
  },
  {
   "cell_type": "code",
   "execution_count": 4,
   "id": "5430b9c2-8ab7-4146-9f1a-5247959c6066",
   "metadata": {},
   "outputs": [],
   "source": [
    "#3\n",
    "a=10\n",
    "b=20\n",
    "if(a<b):\n",
    "    pass\n",
    "else:\n",
    "    print(\"b<a\")"
   ]
  },
  {
   "cell_type": "code",
   "execution_count": null,
   "id": "d913b304-15ac-4d18-8fc5-e63dcb4a9bba",
   "metadata": {},
   "outputs": [],
   "source": []
  },
  {
   "cell_type": "code",
   "execution_count": null,
   "id": "f8a21ad9-db4a-43d7-8fd9-f8d5c2464e21",
   "metadata": {},
   "outputs": [],
   "source": []
  }
 ],
 "metadata": {
  "kernelspec": {
   "display_name": "Python 3 (ipykernel)",
   "language": "python",
   "name": "python3"
  },
  "language_info": {
   "codemirror_mode": {
    "name": "ipython",
    "version": 3
   },
   "file_extension": ".py",
   "mimetype": "text/x-python",
   "name": "python",
   "nbconvert_exporter": "python",
   "pygments_lexer": "ipython3",
   "version": "3.11.7"
  }
 },
 "nbformat": 4,
 "nbformat_minor": 5
}
