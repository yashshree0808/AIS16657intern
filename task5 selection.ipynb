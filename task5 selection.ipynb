{
 "cells": [
  {
   "cell_type": "code",
   "execution_count": 3,
   "id": "22278411-2897-4a1b-a801-64eb867cc431",
   "metadata": {},
   "outputs": [],
   "source": [
    "import pandas as pd\n",
    "#creating a sample DataFrame\n",
    "data={'Name':['Alice','Bob','charlie','David','Eva'],\n",
    "      'Age':[24,27,22,32,29],\n",
    "      'city':['New York','Los Angeles','chicago','Houston','phoenix']\n",
    "}\n",
    "df=pd.DataFrame(data)"
   ]
  },
  {
   "cell_type": "code",
   "execution_count": 2,
   "id": "036026fd-eb24-4757-afa6-8ffc4884be82",
   "metadata": {},
   "outputs": [
    {
     "name": "stdout",
     "output_type": "stream",
     "text": [
      "0      Alice\n",
      "1        Bob\n",
      "2    charlie\n",
      "3      David\n",
      "4        Eva\n",
      "Name: Name, dtype: object\n"
     ]
    }
   ],
   "source": [
    "#selecting columns\n",
    "#selecting the 'Name' column\n",
    "name_column=df[\"Name\"]\n",
    "print(name_column)"
   ]
  },
  {
   "cell_type": "code",
   "execution_count": 4,
   "id": "c808f799-ac23-420c-bfaa-b3f61c666d89",
   "metadata": {},
   "outputs": [
    {
     "name": "stdout",
     "output_type": "stream",
     "text": [
      "      Name  Age\n",
      "0    Alice   24\n",
      "1      Bob   27\n",
      "2  charlie   22\n",
      "3    David   32\n",
      "4      Eva   29\n"
     ]
    }
   ],
   "source": [
    "#selecting the 'Name' and 'Age' columns\n",
    "name_age_columns=df[['Name','Age']]\n",
    "print(name_age_columns)"
   ]
  },
  {
   "cell_type": "code",
   "execution_count": 5,
   "id": "b81b487d-a792-4dbc-b539-4b974885c0cb",
   "metadata": {},
   "outputs": [
    {
     "name": "stdout",
     "output_type": "stream",
     "text": [
      "Name            Bob\n",
      "Age              27\n",
      "city    Los Angeles\n",
      "Name: 1, dtype: object\n"
     ]
    }
   ],
   "source": [
    "#selecting rows\n",
    "#1.By label('loc'):\n",
    "#selecting the row with label 1\n",
    "row_by_label=df.loc[1]\n",
    "print(row_by_label)"
   ]
  },
  {
   "cell_type": "code",
   "execution_count": 6,
   "id": "3f61198c-4c6c-4e08-b1f5-bd35a715c421",
   "metadata": {},
   "outputs": [
    {
     "name": "stdout",
     "output_type": "stream",
     "text": [
      "Name    charlie\n",
      "Age          22\n",
      "city    chicago\n",
      "Name: 2, dtype: object\n"
     ]
    }
   ],
   "source": [
    "row_by_label=df.loc[2]\n",
    "print(row_by_label)"
   ]
  },
  {
   "cell_type": "code",
   "execution_count": 7,
   "id": "e081b0dc-087a-45d5-89a1-21a1d542c43c",
   "metadata": {},
   "outputs": [
    {
     "name": "stdout",
     "output_type": "stream",
     "text": [
      "Name    charlie\n",
      "Age          22\n",
      "city    chicago\n",
      "Name: 2, dtype: object\n"
     ]
    }
   ],
   "source": [
    "#by position('iloc')\n",
    "#selecting the row at position 2\n",
    "row_by_position=df.iloc[2]\n",
    "print(row_by_position)"
   ]
  },
  {
   "cell_type": "code",
   "execution_count": 8,
   "id": "c743bc79-fd4c-414c-8d9e-2daa34bc5322",
   "metadata": {},
   "outputs": [
    {
     "name": "stdout",
     "output_type": "stream",
     "text": [
      "      Name         city\n",
      "1      Bob  Los Angeles\n",
      "2  charlie      chicago\n",
      "3    David      Houston\n"
     ]
    }
   ],
   "source": [
    "#selecting subsets\n",
    "#selecting specific rows and columns by label\n",
    "subset_by_label=df.loc[1:3,[\"Name\",\"city\"]]\n",
    "print(subset_by_label)"
   ]
  },
  {
   "cell_type": "code",
   "execution_count": 9,
   "id": "56e8e057-4073-4a9e-b9c3-c8b59da9037c",
   "metadata": {},
   "outputs": [
    {
     "name": "stdout",
     "output_type": "stream",
     "text": [
      "      Name  Age\n",
      "1      Bob   27\n",
      "2  charlie   22\n",
      "3    David   32\n"
     ]
    }
   ],
   "source": [
    "#selecting specific rows and columns by position\n",
    "subset_by_position=df.iloc[1:4,0:2]\n",
    "print(subset_by_position)"
   ]
  },
  {
   "cell_type": "code",
   "execution_count": 10,
   "id": "bf4e44a8-1846-44e7-bc7a-a2e49161fb06",
   "metadata": {},
   "outputs": [
    {
     "name": "stdout",
     "output_type": "stream",
     "text": [
      "    Name  Age         city\n",
      "1    Bob   27  Los Angeles\n",
      "3  David   32      Houston\n",
      "4    Eva   29      phoenix\n"
     ]
    }
   ],
   "source": [
    "#coditional selection\n",
    "#selecting rows where 'Age' is greater than 25\n",
    "age_greater_25=df[df['Age']>25]\n",
    "print(age_greater_25)"
   ]
  },
  {
   "cell_type": "code",
   "execution_count": 11,
   "id": "8b3f7b16-69f8-44b7-ab2b-24994a7e0bdb",
   "metadata": {},
   "outputs": [
    {
     "name": "stdout",
     "output_type": "stream",
     "text": [
      "Empty DataFrame\n",
      "Columns: [Name, Age, city]\n",
      "Index: []\n"
     ]
    }
   ],
   "source": [
    "#selecting rows where 'Age' is greater than 25 and city is 'New York'\n",
    "conditioned_rows=df[(df['Age']>25)&(df['city']=='New York')]\n",
    "print(conditioned_rows)"
   ]
  },
  {
   "cell_type": "code",
   "execution_count": 13,
   "id": "cdd7a5c4-5c9a-48cd-aef0-0f25fd8e1f3f",
   "metadata": {},
   "outputs": [
    {
     "name": "stdout",
     "output_type": "stream",
     "text": [
      "\n",
      "DataFrame after adding 'column':\n",
      "       Name  Age         city country\n",
      "0    Alice   24     New York     USA\n",
      "1      Bob   27  Los Angeles     USA\n",
      "2  charlie   22      chicago     USA\n",
      "3    David   32      Houston     USA\n",
      "4      Eva   29      phoenix     USA\n"
     ]
    }
   ],
   "source": [
    "#column add\n",
    "#adding a new column 'country' with a constant value\n",
    "df['country']='USA'\n",
    "print(\"\\nDataFrame after adding 'column':\\n\",df)"
   ]
  },
  {
   "cell_type": "code",
   "execution_count": 14,
   "id": "2b06b920-ccb0-45d9-a6ea-bc342c7ce6ec",
   "metadata": {},
   "outputs": [
    {
     "name": "stdout",
     "output_type": "stream",
     "text": [
      "\n",
      "DataFrame after deleting 'column':\n",
      "       Name  Age country\n",
      "0    Alice   24     USA\n",
      "1      Bob   27     USA\n",
      "2  charlie   22     USA\n",
      "3    David   32     USA\n",
      "4      Eva   29     USA\n"
     ]
    }
   ],
   "source": [
    "#Deleting the 'city' column\n",
    "df=df.drop(columns=['city'])\n",
    "print(\"\\nDataFrame after deleting 'column':\\n\",df)"
   ]
  },
  {
   "cell_type": "code",
   "execution_count": 15,
   "id": "e49bdac8-48c0-4399-9cec-eb633013bc13",
   "metadata": {},
   "outputs": [
    {
     "name": "stdout",
     "output_type": "stream",
     "text": [
      "\n",
      "DataFrame after deleting 'column':\n",
      "       Name  Age\n",
      "0    Alice   24\n",
      "1      Bob   27\n",
      "2  charlie   22\n",
      "3    David   32\n",
      "4      Eva   29\n"
     ]
    }
   ],
   "source": [
    "#Deleting the 'city' column\n",
    "del df['country']\n",
    "print(\"\\nDataFrame after deleting 'column':\\n\",df)"
   ]
  },
  {
   "cell_type": "code",
   "execution_count": 16,
   "id": "2e949d8d-46a5-4278-bc52-535582079293",
   "metadata": {},
   "outputs": [
    {
     "name": "stdout",
     "output_type": "stream",
     "text": [
      "\n",
      "DataFrame after updating 'Age' column:\n",
      "       Name  Age\n",
      "0    Alice   25\n",
      "1      Bob   28\n",
      "2  charlie   23\n",
      "3    David   33\n",
      "4      Eva   30\n"
     ]
    }
   ],
   "source": [
    "#updating the 'Age' column to be increased by 1\n",
    "df['Age']=df['Age']+1\n",
    "print(\"\\nDataFrame after updating 'Age' column:\\n\",df)"
   ]
  },
  {
   "cell_type": "code",
   "execution_count": 17,
   "id": "26db44e9-284e-42db-9620-d776f7caaacb",
   "metadata": {},
   "outputs": [
    {
     "name": "stdout",
     "output_type": "stream",
     "text": [
      "\n",
      "DataFrame with 'Name'as the index:\n",
      "          Age\n",
      "Name        \n",
      "Alice     25\n",
      "Bob       28\n",
      "charlie   23\n",
      "David     33\n",
      "Eva       30\n"
     ]
    }
   ],
   "source": [
    "#index\n",
    "#seting 'NAme' as the index\n",
    "df_with_index=df.set_index('Name')\n",
    "print(\"\\nDataFrame with 'Name'as the index:\\n\",df_with_index)"
   ]
  },
  {
   "cell_type": "code",
   "execution_count": 19,
   "id": "83bba786-de68-4aed-9bee-df09c9db91f4",
   "metadata": {},
   "outputs": [
    {
     "name": "stdout",
     "output_type": "stream",
     "text": [
      "\n",
      "DataFrame after removing the index the index:\n",
      "       Name  Age\n",
      "0    Alice   25\n",
      "1      Bob   28\n",
      "2  charlie   23\n",
      "3    David   33\n",
      "4      Eva   30\n"
     ]
    }
   ],
   "source": [
    "#dropping the index to remove it \n",
    "df_no_index=df.reset_index(drop=True)\n",
    "print(\"\\nDataFrame after removing the index the index:\\n\",df_no_index)"
   ]
  },
  {
   "cell_type": "code",
   "execution_count": 20,
   "id": "8e12ba62-8163-4ab6-a54f-2d44bed18845",
   "metadata": {},
   "outputs": [
    {
     "name": "stdout",
     "output_type": "stream",
     "text": [
      "original DataFrame:\n",
      "     A  B\n",
      "0  10  1\n",
      "1  20  2\n",
      "2  30  3\n",
      "3  40  4\n",
      "4  50  5\n"
     ]
    }
   ],
   "source": [
    "#creating a sample dataFrame\n",
    "data={\n",
    "    'A':[10,20,30,40,50],\n",
    "    'B':[1,2,3,4,5]\n",
    "}\n",
    "df=pd.DataFrame(data)\n",
    "print(\"original DataFrame:\\n\",df)"
   ]
  },
  {
   "cell_type": "code",
   "execution_count": 21,
   "id": "4bb48e18-e136-4346-87ee-c9c1c683ca80",
   "metadata": {},
   "outputs": [
    {
     "name": "stdout",
     "output_type": "stream",
     "text": [
      "\n",
      "DataFrame after adding column 'A' and 'B':\n",
      "     A  B  A_plus_B\n",
      "0  10  1        11\n",
      "1  20  2        22\n",
      "2  30  3        33\n",
      "3  40  4        44\n",
      "4  50  5        55\n"
     ]
    }
   ],
   "source": [
    "#Addition\n",
    "#Adding columns 'A' and 'B'\n",
    "df['A_plus_B']=df['A']+df['B']\n",
    "print(\"\\nDataFrame after adding column 'A' and 'B':\\n\",df)"
   ]
  },
  {
   "cell_type": "code",
   "execution_count": 22,
   "id": "c653b99b-4b3a-4696-a4b7-ed5c4f924095",
   "metadata": {},
   "outputs": [
    {
     "name": "stdout",
     "output_type": "stream",
     "text": [
      "\n",
      "DataFrame after substracting column 'B' from 'A':\n",
      "     A  B  A_plus_B  A_minus_B\n",
      "0  10  1        11          9\n",
      "1  20  2        22         18\n",
      "2  30  3        33         27\n",
      "3  40  4        44         36\n",
      "4  50  5        55         45\n"
     ]
    }
   ],
   "source": [
    "#substraction\n",
    "#substracting column 'B' from column 'A'\n",
    "df['A_minus_B']=df['A']-df['B']\n",
    "print(\"\\nDataFrame after substracting column 'B' from 'A':\\n\",df)"
   ]
  },
  {
   "cell_type": "code",
   "execution_count": 23,
   "id": "835ad553-d955-489c-b42f-56615e128f2c",
   "metadata": {},
   "outputs": [
    {
     "name": "stdout",
     "output_type": "stream",
     "text": [
      "\n",
      "DataFrame after multiplying column 'A' and 'B':\n",
      "     A  B  A_plus_B  A_minus_B  A_times_B\n",
      "0  10  1        11          9         10\n",
      "1  20  2        22         18         40\n",
      "2  30  3        33         27         90\n",
      "3  40  4        44         36        160\n",
      "4  50  5        55         45        250\n"
     ]
    }
   ],
   "source": [
    "#multiplication\n",
    "#multiplying colums 'A' and 'B'\n",
    "df['A_times_B']=df['A']*df['B']\n",
    "print(\"\\nDataFrame after multiplying column 'A' and 'B':\\n\",df)"
   ]
  },
  {
   "cell_type": "code",
   "execution_count": 24,
   "id": "a68fd1c5-f6a5-4107-8230-65fc554b488a",
   "metadata": {},
   "outputs": [
    {
     "name": "stdout",
     "output_type": "stream",
     "text": [
      "\n",
      "DataFrame after dividing column 'A' and 'B':\n",
      "     A  B  A_plus_B  A_minus_B  A_times_B  A_div_B\n",
      "0  10  1        11          9         10     10.0\n",
      "1  20  2        22         18         40     10.0\n",
      "2  30  3        33         27         90     10.0\n",
      "3  40  4        44         36        160     10.0\n",
      "4  50  5        55         45        250     10.0\n"
     ]
    }
   ],
   "source": [
    "#division\n",
    "#dividing colums 'A' and 'B'\n",
    "df['A_div_B']=df['A']/df['B']\n",
    "print(\"\\nDataFrame after dividing column 'A' and 'B':\\n\",df)"
   ]
  },
  {
   "cell_type": "code",
   "execution_count": null,
   "id": "7684a9f5-e93f-4413-b9e2-b59913f027fb",
   "metadata": {},
   "outputs": [],
   "source": []
  }
 ],
 "metadata": {
  "kernelspec": {
   "display_name": "Python 3 (ipykernel)",
   "language": "python",
   "name": "python3"
  },
  "language_info": {
   "codemirror_mode": {
    "name": "ipython",
    "version": 3
   },
   "file_extension": ".py",
   "mimetype": "text/x-python",
   "name": "python",
   "nbconvert_exporter": "python",
   "pygments_lexer": "ipython3",
   "version": "3.11.7"
  }
 },
 "nbformat": 4,
 "nbformat_minor": 5
}
