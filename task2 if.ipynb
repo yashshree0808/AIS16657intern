{
 "cells": [
  {
   "cell_type": "markdown",
   "id": "c6551e6b-7cb3-433c-95b5-66e7a9ac30c4",
   "metadata": {},
   "source": [
    "#If statements\r\n",
    "Python supports the usual logical conditions from mathematics:\n",
    "\r\n",
    "Equals: a == b\r\n",
    "Not Equals: a != b\r\n",
    "Less than: a < b\r\n",
    "Less than or equal to: a <= b\r\n",
    "Greater than: a > b\r\n",
    "Greater than or equal to:\n",
    "Ta >= b\r\n",
    "These conditions can be used in several ways, most commonly in \"if statements\" an loops.\r\n",
    "\r\n",
    "An \"if statement\" is written by using the  keyword.\r\n",
    "\r\n"
   ]
  },
  {
   "cell_type": "code",
   "execution_count": 2,
   "id": "37a22af7-a631-45ee-8e12-5755be4171c6",
   "metadata": {},
   "outputs": [
    {
     "name": "stdout",
     "output_type": "stream",
     "text": [
      "a is greater than b\n"
     ]
    }
   ],
   "source": [
    "#greater than\n",
    "a=13\n",
    "b=10\n",
    "if(a>b):\n",
    "    print(\"a is greater than b\")\n",
    "    "
   ]
  },
  {
   "cell_type": "code",
   "execution_count": 6,
   "id": "672bcf51-c57d-4d8f-b037-484faa11c7ea",
   "metadata": {},
   "outputs": [
    {
     "name": "stdout",
     "output_type": "stream",
     "text": [
      "a is less than b\n"
     ]
    }
   ],
   "source": [
    "#less than\n",
    "a=13\n",
    "b=15\n",
    "if(a<b):\n",
    "    print(\"a is less than b\")"
   ]
  },
  {
   "cell_type": "code",
   "execution_count": 3,
   "id": "d36a5238-1558-4c7c-8197-5474b2497233",
   "metadata": {},
   "outputs": [
    {
     "name": "stdout",
     "output_type": "stream",
     "text": [
      "a is qual to b\n"
     ]
    }
   ],
   "source": [
    "#Equal\n",
    "a=10\n",
    "b=10\n",
    "if(a==b):\n",
    "    print(\"a is qual to b\")"
   ]
  },
  {
   "cell_type": "code",
   "execution_count": 5,
   "id": "82052ce7-ad9c-4444-9da7-0c55b8710589",
   "metadata": {},
   "outputs": [
    {
     "name": "stdout",
     "output_type": "stream",
     "text": [
      "a is not equal to b\n"
     ]
    }
   ],
   "source": [
    "#not equal\n",
    "a=10\n",
    "b=9\n",
    "if(a!=b):\n",
    "    print(\"a is not equal to b\")"
   ]
  },
  {
   "cell_type": "code",
   "execution_count": 8,
   "id": "9283d1b6-dd06-46ff-a0cd-5c7f87ba93c1",
   "metadata": {},
   "outputs": [
    {
     "name": "stdout",
     "output_type": "stream",
     "text": [
      "a is less than or equal to b\n"
     ]
    }
   ],
   "source": [
    "#less than or equal to\n",
    "a=15\n",
    "b=18\n",
    "if(a<=b):\n",
    "    print(\"a is less than or equal to b\")"
   ]
  },
  {
   "cell_type": "code",
   "execution_count": 9,
   "id": "2d5ac979-d18a-49e1-8b02-0a1a84e28c83",
   "metadata": {},
   "outputs": [
    {
     "name": "stdout",
     "output_type": "stream",
     "text": [
      "a is greater than or equal to\n"
     ]
    }
   ],
   "source": [
    "#greater than or equal to\n",
    "a=20\n",
    "b=15\n",
    "if(a>=b):\n",
    "    print(\"a is greater than or equal to\")"
   ]
  },
  {
   "cell_type": "code",
   "execution_count": 10,
   "id": "f0c4eae0-ca0a-4488-b5e8-bc6004a7ee02",
   "metadata": {},
   "outputs": [
    {
     "name": "stdout",
     "output_type": "stream",
     "text": [
      "Given no. is even\n"
     ]
    }
   ],
   "source": [
    "#even\n",
    "a=10\n",
    "if(a%2==0):\n",
    "    print(\"Given no. is even\")"
   ]
  },
  {
   "cell_type": "code",
   "execution_count": 11,
   "id": "e7057892-2663-44b6-b7ba-6442dbbacfbe",
   "metadata": {},
   "outputs": [
    {
     "name": "stdout",
     "output_type": "stream",
     "text": [
      "Given no. is odd\n"
     ]
    }
   ],
   "source": [
    "#odd\n",
    "a=13\n",
    "if(a%2!=0):\n",
    "    print(\"Given no. is odd\")\n",
    "    "
   ]
  },
  {
   "cell_type": "code",
   "execution_count": 13,
   "id": "202820d8-f2a3-4b49-8e86-5077651518fe",
   "metadata": {},
   "outputs": [
    {
     "name": "stdout",
     "output_type": "stream",
     "text": [
      "a is positive no.\n"
     ]
    }
   ],
   "source": [
    "#positive\n",
    "a=13\n",
    "if(a>0):\n",
    "    print(\"a is positive no.\")"
   ]
  },
  {
   "cell_type": "code",
   "execution_count": 14,
   "id": "f0622bde-fad1-404c-ab14-be0a0426f163",
   "metadata": {},
   "outputs": [
    {
     "name": "stdout",
     "output_type": "stream",
     "text": [
      "a is negative no.\n"
     ]
    }
   ],
   "source": [
    "#negative\n",
    "a=-13\n",
    "if(a<0):\n",
    "    print(\"a is negative no.\")"
   ]
  }
 ],
 "metadata": {
  "kernelspec": {
   "display_name": "Python 3 (ipykernel)",
   "language": "python",
   "name": "python3"
  },
  "language_info": {
   "codemirror_mode": {
    "name": "ipython",
    "version": 3
   },
   "file_extension": ".py",
   "mimetype": "text/x-python",
   "name": "python",
   "nbconvert_exporter": "python",
   "pygments_lexer": "ipython3",
   "version": "3.11.7"
  }
 },
 "nbformat": 4,
 "nbformat_minor": 5
}
