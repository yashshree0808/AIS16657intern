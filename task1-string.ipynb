{
 "cells": [
  {
   "cell_type": "code",
   "execution_count": null,
   "id": "359a168d-dc96-43ce-b766-744eaa85ab26",
   "metadata": {},
   "outputs": [],
   "source": [
    "#string\n",
    "Strings in python are surrounded by either single quotation marks, or double quotation marks.\n",
    "'yashshree' is the same as \"yashshree\".\n",
    "You can display a string literal with the print() function:"
   ]
  },
  {
   "cell_type": "code",
   "execution_count": 1,
   "id": "f031e895-0ce9-40ae-8238-62014a5b94ad",
   "metadata": {},
   "outputs": [
    {
     "name": "stdout",
     "output_type": "stream",
     "text": [
      "yashshree\n"
     ]
    }
   ],
   "source": [
    "print(\"yashshree\")\n"
   ]
  },
  {
   "cell_type": "code",
   "execution_count": 2,
   "id": "e90cac31-6a4e-4254-be4a-92d006c90ac9",
   "metadata": {},
   "outputs": [
    {
     "name": "stdout",
     "output_type": "stream",
     "text": [
      "yashshree\n"
     ]
    }
   ],
   "source": [
    "print('yashshree')"
   ]
  },
  {
   "cell_type": "markdown",
   "id": "324fe312-f1b0-41ca-afca-80f18eb38173",
   "metadata": {},
   "source": [
    "#Multiline Strings\r\n",
    "You can assign a multiline string to a variable by using three quotes:"
   ]
  },
  {
   "cell_type": "code",
   "execution_count": 3,
   "id": "bf77521b-8b8b-4052-b76d-3112a4b62350",
   "metadata": {},
   "outputs": [
    {
     "name": "stdout",
     "output_type": "stream",
     "text": [
      "Lorem ipsum dolor sit amet,\n",
      "consectetur adipiscing elit,\n",
      "sed do eiusmod tempor incididunt\n",
      "ut labore et dolore magna aliqua.\n"
     ]
    }
   ],
   "source": [
    "a = \"\"\"Lorem ipsum dolor sit amet,\n",
    "consectetur adipiscing elit,\n",
    "sed do eiusmod tempor incididunt\n",
    "ut labore et dolore magna aliqua.\"\"\"\n",
    "print(a)"
   ]
  },
  {
   "cell_type": "markdown",
   "id": "86a35b3b-ae1d-4406-8c9c-4bacbf198275",
   "metadata": {},
   "source": [
    "#Looping Through a String\r\n",
    "Since strings are arrays, we can loop through the characters in a string, with a for loop."
   ]
  },
  {
   "cell_type": "code",
   "execution_count": 6,
   "id": "196de786-06f1-4f54-abb8-e22ab9a49bfe",
   "metadata": {},
   "outputs": [
    {
     "name": "stdout",
     "output_type": "stream",
     "text": [
      "p\n",
      "e\n",
      "n\n"
     ]
    }
   ],
   "source": [
    "for x in \"pen\":\n",
    "    print(x)\n"
   ]
  },
  {
   "cell_type": "markdown",
   "id": "191e7e9a-0dc0-4ebb-9916-d1c5a433ceee",
   "metadata": {},
   "source": [
    "#String Length\n",
    "To get the length of a string, use the len() function."
   ]
  },
  {
   "cell_type": "code",
   "execution_count": 7,
   "id": "bd3dc91b-90c9-49f6-8621-165333683551",
   "metadata": {},
   "outputs": [
    {
     "name": "stdout",
     "output_type": "stream",
     "text": [
      "9\n"
     ]
    }
   ],
   "source": [
    "a=\"yashshree\"\n",
    "print(len(a))"
   ]
  },
  {
   "cell_type": "code",
   "execution_count": null,
   "id": "e918caa3-dc1a-46fb-87fe-711b7804a517",
   "metadata": {},
   "outputs": [],
   "source": []
  }
 ],
 "metadata": {
  "kernelspec": {
   "display_name": "Python 3 (ipykernel)",
   "language": "python",
   "name": "python3"
  },
  "language_info": {
   "codemirror_mode": {
    "name": "ipython",
    "version": 3
   },
   "file_extension": ".py",
   "mimetype": "text/x-python",
   "name": "python",
   "nbconvert_exporter": "python",
   "pygments_lexer": "ipython3",
   "version": "3.11.7"
  }
 },
 "nbformat": 4,
 "nbformat_minor": 5
}
