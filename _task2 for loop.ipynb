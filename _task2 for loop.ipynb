{
 "cells": [
  {
   "cell_type": "markdown",
   "id": "eabb33cb-0215-40ac-8b0f-f873e0aaf58a",
   "metadata": {},
   "source": [
    "#For Loops\r\n",
    "A for loop is used for iterating over a sequence (that is either a list, a tuple, a dictionary, a set, or a string).\n",
    "\r\n",
    "This is less like the for keyword in other programming languages, and works more like an iterator method as found in other object-orientated programming language.\r\n",
    "\r\n",
    "With the for loop we can execute a set of statements, once for each item in a list, tuple, set etc."
   ]
  },
  {
   "cell_type": "code",
   "execution_count": 7,
   "id": "dfce3ffa-bf7f-488b-bd50-b31fa820fb8f",
   "metadata": {},
   "outputs": [
    {
     "name": "stdout",
     "output_type": "stream",
     "text": [
      "apple\n",
      "banana\n",
      "cherry\n"
     ]
    }
   ],
   "source": [
    "#1\n",
    "fruits=[\"apple\",\"banana\",\"cherry\"]\n",
    "for x in fruits:\n",
    "    print(x)   "
   ]
  },
  {
   "cell_type": "code",
   "execution_count": 11,
   "id": "adeb4672-31be-4a7a-be98-a995cc65455b",
   "metadata": {},
   "outputs": [
    {
     "name": "stdout",
     "output_type": "stream",
     "text": [
      "apple\n"
     ]
    }
   ],
   "source": [
    "#2\n",
    "fruits = [\"apple\", \"banana\", \"cherry\"]\n",
    "for x in fruits:\n",
    "  if x == \"banana\":\n",
    "    break\n",
    "  print(x)"
   ]
  },
  {
   "cell_type": "code",
   "execution_count": 12,
   "id": "2c8d981f-c6c0-4117-8a73-c6b3b8111b5d",
   "metadata": {},
   "outputs": [
    {
     "name": "stdout",
     "output_type": "stream",
     "text": [
      "marathi\n",
      "hindi\n",
      "english\n"
     ]
    }
   ],
   "source": [
    "#3\n",
    "languages=[\"marathi\",\"hindi\",\"english\"]\n",
    "for x in languages:\n",
    "    print(x)"
   ]
  },
  {
   "cell_type": "code",
   "execution_count": 13,
   "id": "68bfe462-2ef3-49c8-8e2b-815972ce8458",
   "metadata": {},
   "outputs": [
    {
     "name": "stdout",
     "output_type": "stream",
     "text": [
      "marathi\n",
      "hindi\n"
     ]
    }
   ],
   "source": [
    "#4\n",
    "languages=[\"marathi\",\"hindi\",\"english\"]\n",
    "for x in languages:\n",
    "    if x==\"english\":\n",
    "        break\n",
    "    print(x)    "
   ]
  },
  {
   "cell_type": "code",
   "execution_count": 14,
   "id": "660d6076-b894-47bc-b5c5-79c4c1080f6c",
   "metadata": {},
   "outputs": [
    {
     "name": "stdout",
     "output_type": "stream",
     "text": [
      "0\n",
      "1\n",
      "2\n",
      "3\n"
     ]
    }
   ],
   "source": [
    "#5\n",
    "#iterate from i=0 to i=3\n",
    "for i in range(4):\n",
    "    print(i)"
   ]
  },
  {
   "cell_type": "code",
   "execution_count": 17,
   "id": "23402108-42c2-4ef2-a745-5b6a3d726234",
   "metadata": {},
   "outputs": [
    {
     "name": "stdout",
     "output_type": "stream",
     "text": [
      "no. between 1 to 10\n",
      "1\n",
      "2\n",
      "3\n",
      "4\n",
      "5\n",
      "6\n",
      "7\n",
      "8\n",
      "9\n",
      "10\n"
     ]
    }
   ],
   "source": [
    "#6\n",
    "print(\"no. between 1 to 10\")\n",
    "for i in range(1,11,1):\n",
    "     print(i)"
   ]
  },
  {
   "cell_type": "code",
   "execution_count": 21,
   "id": "714b27ce-5185-4ca9-8959-2ec22e73c995",
   "metadata": {},
   "outputs": [
    {
     "name": "stdout",
     "output_type": "stream",
     "text": [
      "table of 2\n",
      "2\n",
      "4\n",
      "6\n",
      "8\n",
      "10\n",
      "12\n",
      "14\n",
      "16\n",
      "18\n"
     ]
    }
   ],
   "source": [
    "#7\n",
    "print(\"table of 2\")\n",
    "for i in range(2,20,2):\n",
    "    print(i)"
   ]
  },
  {
   "cell_type": "code",
   "execution_count": 22,
   "id": "89e6e4d6-20f9-447e-9a21-04aeafafbfe2",
   "metadata": {},
   "outputs": [
    {
     "name": "stdout",
     "output_type": "stream",
     "text": [
      "red\n",
      "green\n",
      "yellow\n",
      "black\n"
     ]
    }
   ],
   "source": [
    "#8\n",
    "colors=[\"red\",\"green\",\"yellow\",\"black\"]\n",
    "for x in colors:\n",
    "    print(x)\n",
    "    "
   ]
  },
  {
   "cell_type": "code",
   "execution_count": 25,
   "id": "da6f26d2-49cb-46cc-83e9-3ddf713e27c9",
   "metadata": {},
   "outputs": [
    {
     "name": "stdout",
     "output_type": "stream",
     "text": [
      "red\n"
     ]
    }
   ],
   "source": [
    "#9\n",
    "colors=[\"red\",\"green\",\"yellow\",\"black\"]\n",
    "for x in colors:\n",
    "    if x==\"green\":\n",
    "        break\n",
    "    print(x)"
   ]
  },
  {
   "cell_type": "code",
   "execution_count": 26,
   "id": "9b344bb1-b755-4a1f-a250-bf853b67b94c",
   "metadata": {},
   "outputs": [
    {
     "name": "stdout",
     "output_type": "stream",
     "text": [
      "0\n",
      "1\n",
      "5\n"
     ]
    }
   ],
   "source": [
    "#10\n",
    "digits=[0,1,5]\n",
    "for i in digits:\n",
    "    print(i)"
   ]
  },
  {
   "cell_type": "code",
   "execution_count": null,
   "id": "db3c6875-e907-48b8-ae89-727da82c096b",
   "metadata": {},
   "outputs": [],
   "source": []
  }
 ],
 "metadata": {
  "kernelspec": {
   "display_name": "Python 3 (ipykernel)",
   "language": "python",
   "name": "python3"
  },
  "language_info": {
   "codemirror_mode": {
    "name": "ipython",
    "version": 3
   },
   "file_extension": ".py",
   "mimetype": "text/x-python",
   "name": "python",
   "nbconvert_exporter": "python",
   "pygments_lexer": "ipython3",
   "version": "3.11.7"
  }
 },
 "nbformat": 4,
 "nbformat_minor": 5
}
