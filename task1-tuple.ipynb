{
 "cells": [
  {
   "cell_type": "markdown",
   "id": "7cd107cc-60af-4d44-8edd-d9e546fb15e5",
   "metadata": {},
   "source": [
    "#tuples\n",
    "Tuples are used to store multiple items in a single variable.\r\n",
    "Tuple is one of 4 built-in data types in Python used to store collections of data, the other 3 are List, Set, and Dictionary, all with different qualities and usagTuple items are ordered, unchangeable, and allow duplicate values.\r\n",
    "Tuple items are indexed, the first item has index [0], the second item has index [1] e\r\n",
    "e."
   ]
  },
  {
   "cell_type": "code",
   "execution_count": 2,
   "id": "4f5c6c14-1382-46e8-be7f-b309f7e18c7e",
   "metadata": {},
   "outputs": [
    {
     "name": "stdout",
     "output_type": "stream",
     "text": [
      "('pen', 'pencil', 'pen', 'scale')\n"
     ]
    }
   ],
   "source": [
    "tuple=(\"pen\",\"pencil\",\"pen\",\"scale\")\n",
    "print(tuple)"
   ]
  },
  {
   "cell_type": "code",
   "execution_count": 3,
   "id": "49bf7295-1182-4e72-b9d6-0e05e2d4aa8b",
   "metadata": {},
   "outputs": [
    {
     "name": "stdout",
     "output_type": "stream",
     "text": [
      "4\n"
     ]
    }
   ],
   "source": [
    "#len\n",
    "print(len(tuple))"
   ]
  },
  {
   "cell_type": "code",
   "execution_count": 4,
   "id": "a742bfe4-e436-409d-978a-d918980175ed",
   "metadata": {},
   "outputs": [
    {
     "name": "stdout",
     "output_type": "stream",
     "text": [
      "<class 'tuple'>\n"
     ]
    }
   ],
   "source": [
    "#type\n",
    "print(type(tuple))"
   ]
  },
  {
   "cell_type": "code",
   "execution_count": 7,
   "id": "caae1113-962e-46f5-9d08-e318f321ade4",
   "metadata": {},
   "outputs": [
    {
     "data": {
      "text/plain": [
       "1"
      ]
     },
     "execution_count": 7,
     "metadata": {},
     "output_type": "execute_result"
    }
   ],
   "source": [
    "#count-Returns the number of times a specified value occurs in a tuple\n",
    "tuple.count(\"scale\")"
   ]
  },
  {
   "cell_type": "code",
   "execution_count": 8,
   "id": "2c6f5547-9058-4c3e-a57e-3b55cfb25bd5",
   "metadata": {},
   "outputs": [
    {
     "data": {
      "text/plain": [
       "0"
      ]
     },
     "execution_count": 8,
     "metadata": {},
     "output_type": "execute_result"
    }
   ],
   "source": [
    "#index-Searches the tuple for a specified value and returns the position of where it was found\n",
    "tuple.index(\"pen\")"
   ]
  },
  {
   "cell_type": "markdown",
   "id": "f52f5015-92f7-412e-b423-141da473b356",
   "metadata": {},
   "source": [
    "#Join Two Tuples\r\n",
    "To join two or more tuples you can use the + operator:"
   ]
  },
  {
   "cell_type": "code",
   "execution_count": 1,
   "id": "af526548-d3e1-4102-8d90-73e17939937a",
   "metadata": {},
   "outputs": [
    {
     "name": "stdout",
     "output_type": "stream",
     "text": [
      "('pen', 'pencil', 'book', 10, 20, 30)\n"
     ]
    }
   ],
   "source": [
    "tuple1=(\"pen\",\"pencil\",\"book\")\n",
    "tuple2=(10,20,30)\n",
    "tuple3=tuple1+tuple2\n",
    "print(tuple3)"
   ]
  },
  {
   "cell_type": "markdown",
   "id": "e19d47b6-58c3-401c-9c0d-1a37b4eb2fb8",
   "metadata": {},
   "source": [
    "#Multiply Tuples\n",
    "If you want to multiply the content of a tuple a given number of times, you can use the * operator:"
   ]
  },
  {
   "cell_type": "code",
   "execution_count": 1,
   "id": "a7547c57-d37b-430e-8c50-235ea0d34b49",
   "metadata": {},
   "outputs": [
    {
     "name": "stdout",
     "output_type": "stream",
     "text": [
      "('apple', 'banana', 'cherry', 'apple', 'banana', 'cherry')\n"
     ]
    }
   ],
   "source": [
    "fruits=(\"apple\",\"banana\",\"cherry\")\n",
    "tuple=fruits*2\n",
    "print(tuple)"
   ]
  }
 ],
 "metadata": {
  "kernelspec": {
   "display_name": "Python 3 (ipykernel)",
   "language": "python",
   "name": "python3"
  },
  "language_info": {
   "codemirror_mode": {
    "name": "ipython",
    "version": 3
   },
   "file_extension": ".py",
   "mimetype": "text/x-python",
   "name": "python",
   "nbconvert_exporter": "python",
   "pygments_lexer": "ipython3",
   "version": "3.11.7"
  }
 },
 "nbformat": 4,
 "nbformat_minor": 5
}
