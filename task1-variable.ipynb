{
 "cells": [
  {
   "cell_type": "markdown",
   "id": "86944ee5-ec9b-496b-926e-dd175afefcd3",
   "metadata": {},
   "source": [
    "#variable declaration rule\r",
    "Rules for Python variables:\n",
    "1)\n",
    "A variable can have a short name (like x and y) or a more descriptive name (age, carname, total_volume).:2)\r\n",
    "A variable name must start with a letter or the underscore characte3)r\r\n",
    "A variable name cannot start with a numb4)er\r\n",
    "A variable name can only contain alpha-numeric characters and underscores (A-z, 0-9, and 5)_ )\r\n",
    "Variable names are case-sensitive (age, Age and AGE are three different variab6)les)\r\n",
    "A variable name cannot be any of the Python keywords.\r\n"
   ]
  },
  {
   "cell_type": "code",
   "execution_count": 2,
   "id": "da93fd50-8e62-4779-bc41-9924f69df371",
   "metadata": {},
   "outputs": [
    {
     "name": "stdout",
     "output_type": "stream",
     "text": [
      "yashshree\n",
      "yashshree\n"
     ]
    }
   ],
   "source": [
    "#Single or Double Quotes?\n",
    "String variables can be declared either by using single or double quotes:\n",
    "x='yashshree'\n",
    "y=\"yashshree\"\n",
    "print(x)\n",
    "print(y)"
   ]
  },
  {
   "cell_type": "markdown",
   "id": "b8cc2ea0-5a89-4e1d-92a0-dd9ee3d69815",
   "metadata": {},
   "source": [
    "#Many Values to Multiple Variables"
   ]
  },
  {
   "cell_type": "code",
   "execution_count": 2,
   "id": "fccbf9e6-c1f0-4ca2-bff5-1a099ac3cbb0",
   "metadata": {},
   "outputs": [
    {
     "name": "stdout",
     "output_type": "stream",
     "text": [
      "Pen\n",
      "Pencil\n",
      "Book\n"
     ]
    }
   ],
   "source": [
    "x,y,z=\"Pen\",\"Pencil\",\"Book\"\n",
    "print(x)\n",
    "print(y)\n",
    "print(z)"
   ]
  },
  {
   "cell_type": "code",
   "execution_count": 1,
   "id": "9805f7b7-8ce9-4f05-9f40-a3114b808c4a",
   "metadata": {},
   "outputs": [
    {
     "name": "stdout",
     "output_type": "stream",
     "text": [
      "<class 'int'>\n",
      "<class 'str'>\n"
     ]
    }
   ],
   "source": [
    "#type-You can get the data type of a variable with the type() function.\n",
    "x = 10\n",
    "y = \"yashshree\"\n",
    "print(type(x))\n",
    "print(type(y))"
   ]
  }
 ],
 "metadata": {
  "kernelspec": {
   "display_name": "Python 3 (ipykernel)",
   "language": "python",
   "name": "python3"
  },
  "language_info": {
   "codemirror_mode": {
    "name": "ipython",
    "version": 3
   },
   "file_extension": ".py",
   "mimetype": "text/x-python",
   "name": "python",
   "nbconvert_exporter": "python",
   "pygments_lexer": "ipython3",
   "version": "3.11.7"
  }
 },
 "nbformat": 4,
 "nbformat_minor": 5
}
