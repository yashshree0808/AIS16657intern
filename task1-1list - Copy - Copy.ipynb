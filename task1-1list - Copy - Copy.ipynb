{
 "cells": [
  {
   "cell_type": "markdown",
   "id": "f75a837d-c55a-4463-b786-bb30c225a9bd",
   "metadata": {},
   "source": [
    "#list \n",
    "Lists are used to store multiple items in a single variable.\r",
    "\r\n",
    "Lists are one of 4 built-in data types in Python used to store collections of data, the other 3 are Tuple, Set, and Dictionary, all with different qualities and usage\r\n",
    "\r\n",
    "Lists are created using square brets:"
   ]
  },
  {
   "cell_type": "code",
   "execution_count": 1,
   "id": "14f4bce2-98dd-4822-b78b-ed447c56381f",
   "metadata": {},
   "outputs": [
    {
     "data": {
      "text/plain": [
       "['pen', 'pencil', 'scale']"
      ]
     },
     "execution_count": 1,
     "metadata": {},
     "output_type": "execute_result"
    }
   ],
   "source": [
    "#list\n",
    "list1=[\"pen\",\"pencil\",\"scale\"]\n",
    "list1"
   ]
  },
  {
   "cell_type": "code",
   "execution_count": 2,
   "id": "4b2b2a92-f99b-43f3-8775-11d2213ae997",
   "metadata": {},
   "outputs": [
    {
     "data": {
      "text/plain": [
       "list"
      ]
     },
     "execution_count": 2,
     "metadata": {},
     "output_type": "execute_result"
    }
   ],
   "source": [
    "type(list1)"
   ]
  },
  {
   "cell_type": "code",
   "execution_count": 3,
   "id": "1d7a1064-b3e1-462b-a00c-615f6f071147",
   "metadata": {},
   "outputs": [
    {
     "data": {
      "text/plain": [
       "[10, 20, 30]"
      ]
     },
     "execution_count": 3,
     "metadata": {},
     "output_type": "execute_result"
    }
   ],
   "source": [
    "#list of integer\n",
    "list2=[10,20,30]\n",
    "list2"
   ]
  },
  {
   "cell_type": "code",
   "execution_count": 4,
   "id": "b2e1bc68-3b5b-447e-8aee-e3abebb9549c",
   "metadata": {},
   "outputs": [
    {
     "data": {
      "text/plain": [
       "['pen', 10, 'pencil', 20, 'scale']"
      ]
     },
     "execution_count": 4,
     "metadata": {},
     "output_type": "execute_result"
    }
   ],
   "source": [
    "list=[\"pen\",10,\"pencil\",20,\"scale\"]\n",
    "list"
   ]
  },
  {
   "cell_type": "code",
   "execution_count": 5,
   "id": "8290d27f-7edd-43aa-8f56-f4bf9d2e785e",
   "metadata": {},
   "outputs": [
    {
     "data": {
      "text/plain": [
       "[['pen', 10, 'pencil', 20, 'scale'], 10, ['pen', 'pencil', 'scale']]"
      ]
     },
     "execution_count": 5,
     "metadata": {},
     "output_type": "execute_result"
    }
   ],
   "source": [
    "#nested list\n",
    "list=[[\"pen\",10,\"pencil\",20,\"scale\"],10,[\"pen\",\"pencil\",\"scale\"]]\n",
    "list"
   ]
  },
  {
   "cell_type": "code",
   "execution_count": 7,
   "id": "2db58373-1e32-488a-a835-98a77de72615",
   "metadata": {},
   "outputs": [
    {
     "data": {
      "text/plain": [
       "'scale'"
      ]
     },
     "execution_count": 7,
     "metadata": {},
     "output_type": "execute_result"
    }
   ],
   "source": [
    "list1[2]\n"
   ]
  },
  {
   "cell_type": "code",
   "execution_count": null,
   "id": "8571c6f3-46d1-42f9-87f9-dc5347f01f1b",
   "metadata": {},
   "outputs": [],
   "source": [
    "#Negative Indexing\n",
    "Negative indexing means start from the end\n",
    "-1 refers to the last item, -2 refers to the second last item etc."
   ]
  },
  {
   "cell_type": "code",
   "execution_count": 9,
   "id": "a9196a20-0950-4c63-b767-dfac974145be",
   "metadata": {},
   "outputs": [
    {
     "data": {
      "text/plain": [
       "'f'"
      ]
     },
     "execution_count": 9,
     "metadata": {},
     "output_type": "execute_result"
    }
   ],
   "source": [
    "l1=[\"a\",\"b\",\"c\",\"d\",\"e\",\"f\"]\n",
    "l1[-1]"
   ]
  },
  {
   "cell_type": "code",
   "execution_count": 12,
   "id": "19bc508f-c989-4939-b5e6-f3e95a775eb3",
   "metadata": {},
   "outputs": [
    {
     "data": {
      "text/plain": [
       "'e'"
      ]
     },
     "execution_count": 12,
     "metadata": {},
     "output_type": "execute_result"
    }
   ],
   "source": [
    "l1[-2]"
   ]
  },
  {
   "cell_type": "code",
   "execution_count": 13,
   "id": "de608ac7-341a-4d52-845a-3080c52b80fc",
   "metadata": {},
   "outputs": [
    {
     "data": {
      "text/plain": [
       "6"
      ]
     },
     "execution_count": 13,
     "metadata": {},
     "output_type": "execute_result"
    }
   ],
   "source": [
    "len(l1)\n"
   ]
  },
  {
   "cell_type": "code",
   "execution_count": null,
   "id": "499cf40c-ec4a-47dc-a03e-d591ddc4e36d",
   "metadata": {},
   "outputs": [],
   "source": [
    "#Range of Indexes\n",
    "You can specify a range of indexes by specifying where to start and where to end the range.\n",
    "When specifying a range, the return value will be a new list with the specified items."
   ]
  },
  {
   "cell_type": "code",
   "execution_count": 14,
   "id": "8a972449-71e6-4d53-89f6-7eb0e95278eb",
   "metadata": {},
   "outputs": [
    {
     "name": "stdout",
     "output_type": "stream",
     "text": [
      "[10, ['pen', 'pencil', 'scale']]\n"
     ]
    }
   ],
   "source": [
    "print(list[1:3])\n"
   ]
  },
  {
   "cell_type": "code",
   "execution_count": 15,
   "id": "5c4839cf-43f0-4228-9194-2130c15f0183",
   "metadata": {},
   "outputs": [
    {
     "name": "stdout",
     "output_type": "stream",
     "text": [
      "[['pen', 'pencil', 'scale']]\n"
     ]
    }
   ],
   "source": [
    "print(list[2:])\n"
   ]
  },
  {
   "cell_type": "code",
   "execution_count": 16,
   "id": "1769e27b-731a-422b-89e0-6b1b27fc682f",
   "metadata": {},
   "outputs": [
    {
     "name": "stdout",
     "output_type": "stream",
     "text": [
      "[['pen', 10, 'pencil', 20, 'scale'], 10, ['pen', 'pencil', 'scale']]\n"
     ]
    }
   ],
   "source": [
    "print(list[:3])"
   ]
  },
  {
   "cell_type": "markdown",
   "id": "7393292e-60b4-4364-af45-fb1f08c81ce8",
   "metadata": {},
   "source": [
    "#Range of Negative Indexes\r\n",
    "Specify negative indexes if you want to start the search from the end of the list\n",
    "\r\n"
   ]
  },
  {
   "cell_type": "code",
   "execution_count": 5,
   "id": "9e8210f2-bfe6-452a-9133-1bb040d03d9e",
   "metadata": {},
   "outputs": [
    {
     "name": "stdout",
     "output_type": "stream",
     "text": [
      "['pencil']\n"
     ]
    }
   ],
   "source": [
    "list=[\"pen\",\"pencil\",\"book\"]\n",
    "print(list[-2:-1])"
   ]
  },
  {
   "cell_type": "code",
   "execution_count": 13,
   "id": "65b20704-5360-4db0-a7f0-fc1ed8cbb007",
   "metadata": {},
   "outputs": [
    {
     "data": {
      "text/plain": [
       "['pen', 'pencil', 'scale', 10, 20, 30, 'pen']"
      ]
     },
     "execution_count": 13,
     "metadata": {},
     "output_type": "execute_result"
    }
   ],
   "source": [
    "#1-append()\n",
    "x=[\"pen\",\"pencil\",\"scale\",10,20,30]\n",
    "x.append(\"pen\")\n",
    "x"
   ]
  },
  {
   "cell_type": "code",
   "execution_count": 3,
   "id": "8957b52f-c54d-4c39-a6de-85caab75bae7",
   "metadata": {},
   "outputs": [
    {
     "data": {
      "text/plain": [
       "1"
      ]
     },
     "execution_count": 3,
     "metadata": {},
     "output_type": "execute_result"
    }
   ],
   "source": [
    "#count\n",
    "x.count(\"pencil\")\n"
   ]
  },
  {
   "cell_type": "code",
   "execution_count": 21,
   "id": "d320b299-dcee-43a5-b699-6de086b52baf",
   "metadata": {},
   "outputs": [
    {
     "data": {
      "text/plain": [
       "['pen', 'pencil', 'scale', 10, 20, 30, 'pen']"
      ]
     },
     "execution_count": 21,
     "metadata": {},
     "output_type": "execute_result"
    }
   ],
   "source": [
    "x=['pen', 'pencil', 'scale', 10, 20, 30, 'pen']\n",
    "x1=x.copy()\n",
    "x1"
   ]
  },
  {
   "cell_type": "code",
   "execution_count": 17,
   "id": "c9ef99d6-9d0a-4b5d-b7c1-765f3b27a476",
   "metadata": {},
   "outputs": [
    {
     "data": {
      "text/plain": [
       "[]"
      ]
     },
     "execution_count": 17,
     "metadata": {},
     "output_type": "execute_result"
    }
   ],
   "source": [
    "x1=x.copy()\n",
    "x1"
   ]
  },
  {
   "cell_type": "code",
   "execution_count": 22,
   "id": "44bb5792-54e5-4202-9894-4cef00495344",
   "metadata": {},
   "outputs": [
    {
     "data": {
      "text/plain": [
       "['pen', 30, 20, 10, 'scale', 'pencil', 'pen']"
      ]
     },
     "execution_count": 22,
     "metadata": {},
     "output_type": "execute_result"
    }
   ],
   "source": [
    "x.reverse()\n",
    "x"
   ]
  },
  {
   "cell_type": "code",
   "execution_count": 23,
   "id": "e551be79-6fbf-4b21-aa31-f131726acde1",
   "metadata": {},
   "outputs": [
    {
     "data": {
      "text/plain": [
       "5"
      ]
     },
     "execution_count": 23,
     "metadata": {},
     "output_type": "execute_result"
    }
   ],
   "source": [
    "x.index(\"pencil\")\n"
   ]
  }
 ],
 "metadata": {
  "kernelspec": {
   "display_name": "Python 3 (ipykernel)",
   "language": "python",
   "name": "python3"
  },
  "language_info": {
   "codemirror_mode": {
    "name": "ipython",
    "version": 3
   },
   "file_extension": ".py",
   "mimetype": "text/x-python",
   "name": "python",
   "nbconvert_exporter": "python",
   "pygments_lexer": "ipython3",
   "version": "3.11.7"
  }
 },
 "nbformat": 4,
 "nbformat_minor": 5
}
