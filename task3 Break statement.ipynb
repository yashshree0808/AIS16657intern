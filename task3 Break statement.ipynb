{
 "cells": [
  {
   "cell_type": "markdown",
   "id": "5dae55b6-a1ea-4ce5-a31c-6e102ccab231",
   "metadata": {},
   "source": [
    "#control statement\n",
    "#Break statement\n",
    "#With the break statement we can stop the loop before it has looped through all the items:\n",
    "#it can be used in both 'for' and 'while' loops.when the 'break' statement is executed,the loop stops immediately, and the programme control is transferred to the first statement following the loop."
   ]
  },
  {
   "cell_type": "code",
   "execution_count": 1,
   "id": "aa665802-c120-4423-a084-e94415a10f1c",
   "metadata": {},
   "outputs": [
    {
     "name": "stdout",
     "output_type": "stream",
     "text": [
      "apple\n",
      "banana\n"
     ]
    }
   ],
   "source": [
    "#1\n",
    "fruits = [\"apple\", \"banana\", \"cherry\"]\n",
    "for x in fruits:\n",
    "  print(x)\n",
    "  if x == \"banana\":\n",
    "    break"
   ]
  },
  {
   "cell_type": "code",
   "execution_count": 22,
   "id": "89ec872e-229b-400f-9d9d-49e76a116644",
   "metadata": {},
   "outputs": [
    {
     "name": "stdout",
     "output_type": "stream",
     "text": [
      "y\n",
      "a\n",
      "s\n"
     ]
    }
   ],
   "source": [
    "#2\n",
    "str=\"yashshree\"\n",
    "for char in str:\n",
    "    if(char=='s'):\n",
    "        print(\"s\")\n",
    "        break\n",
    "    print(char)"
   ]
  },
  {
   "cell_type": "code",
   "execution_count": 23,
   "id": "69bbf91a-f687-48bf-80c5-0592d4af869b",
   "metadata": {},
   "outputs": [
    {
     "name": "stdout",
     "output_type": "stream",
     "text": [
      "0\n",
      "1\n",
      "2\n",
      "3\n",
      "4\n",
      "5\n"
     ]
    }
   ],
   "source": [
    "i=0\n",
    "while i<=10:\n",
    "    print(i)\n",
    "    if i==5:\n",
    "        break\n",
    "    i+=1"
   ]
  }
 ],
 "metadata": {
  "kernelspec": {
   "display_name": "Python 3 (ipykernel)",
   "language": "python",
   "name": "python3"
  },
  "language_info": {
   "codemirror_mode": {
    "name": "ipython",
    "version": 3
   },
   "file_extension": ".py",
   "mimetype": "text/x-python",
   "name": "python",
   "nbconvert_exporter": "python",
   "pygments_lexer": "ipython3",
   "version": "3.11.7"
  }
 },
 "nbformat": 4,
 "nbformat_minor": 5
}
