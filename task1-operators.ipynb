{
 "cells": [
  {
   "cell_type": "code",
   "execution_count": null,
   "id": "9c4a5c2a-6d96-4641-9307-18acee2a0f62",
   "metadata": {},
   "outputs": [],
   "source": [
    "#operators\n",
    "Operators are used to perform operations on variables and values.\n",
    "Python divides the operators in the following groups:\n",
    "1)Arithmetic operators\n",
    "2)Assignment operators\n",
    "3)Comparison operators\n",
    "4)Logical operators\n",
    "5)Identity operators\n",
    "6)Membership operators\n",
    "7)Bitwise operators\n",
    "\n"
   ]
  },
  {
   "cell_type": "code",
   "execution_count": 1,
   "id": "e731adf1-6ad2-4fcf-a651-bf888404721a",
   "metadata": {},
   "outputs": [
    {
     "name": "stdout",
     "output_type": "stream",
     "text": [
      "2\n",
      "6\n"
     ]
    }
   ],
   "source": [
    "#Assignment operators\n",
    "#+=value\n",
    "x=2\n",
    "print(x)\n",
    "x+=4\n",
    "print(x)"
   ]
  },
  {
   "cell_type": "code",
   "execution_count": 52,
   "id": "95adfa82-b290-41a0-a6b3-2c312e65afb6",
   "metadata": {},
   "outputs": [
    {
     "name": "stdout",
     "output_type": "stream",
     "text": [
      "10\n",
      "8\n"
     ]
    }
   ],
   "source": [
    "#-=value\n",
    "x=10\n",
    "print(x)\n",
    "x-=2\n",
    "print(x)\n"
   ]
  },
  {
   "cell_type": "code",
   "execution_count": 10,
   "id": "033dd09e-d501-4161-823a-c9ac2054b258",
   "metadata": {},
   "outputs": [
    {
     "name": "stdout",
     "output_type": "stream",
     "text": [
      "10\n"
     ]
    }
   ],
   "source": [
    "#*=value\n",
    "x=5\n",
    "x*=2\n",
    "print(x)\n"
   ]
  },
  {
   "cell_type": "code",
   "execution_count": 11,
   "id": "38a19792-7677-4281-9a30-d147367c8ad7",
   "metadata": {},
   "outputs": [
    {
     "name": "stdout",
     "output_type": "stream",
     "text": [
      "5.0\n"
     ]
    }
   ],
   "source": [
    "#/=value\n",
    "x=10\n",
    "x/=2\n",
    "print(x)\n"
   ]
  },
  {
   "cell_type": "code",
   "execution_count": 9,
   "id": "5df7091d-7613-45ed-8483-28ee17d1a4d7",
   "metadata": {},
   "outputs": [
    {
     "name": "stdout",
     "output_type": "stream",
     "text": [
      "7\n"
     ]
    }
   ],
   "source": [
    "#Arithmatic operators\n",
    "#addition\n",
    "print(5+2)\n"
   ]
  },
  {
   "cell_type": "code",
   "execution_count": 13,
   "id": "65f5d8e6-8ca6-40be-b8b3-c3de8b52e8f0",
   "metadata": {},
   "outputs": [
    {
     "name": "stdout",
     "output_type": "stream",
     "text": [
      "3\n"
     ]
    }
   ],
   "source": [
    "#substraction\n",
    "print(5-2)\n"
   ]
  },
  {
   "cell_type": "code",
   "execution_count": 14,
   "id": "3c5f9ef7-a02c-487b-b290-6d0227f03e47",
   "metadata": {},
   "outputs": [
    {
     "name": "stdout",
     "output_type": "stream",
     "text": [
      "10\n"
     ]
    }
   ],
   "source": [
    "#multiplication\n",
    "print(5*2)\n"
   ]
  },
  {
   "cell_type": "code",
   "execution_count": 15,
   "id": "1252a2d0-3230-45b7-b19d-6898b4f8d049",
   "metadata": {},
   "outputs": [
    {
     "name": "stdout",
     "output_type": "stream",
     "text": [
      "5.0\n"
     ]
    }
   ],
   "source": [
    "#division\n",
    "print(10/2)\n"
   ]
  },
  {
   "cell_type": "code",
   "execution_count": 16,
   "id": "aa2fddd1-a58a-4cb5-a820-23fda74258e6",
   "metadata": {},
   "outputs": [
    {
     "name": "stdout",
     "output_type": "stream",
     "text": [
      "0\n"
     ]
    }
   ],
   "source": [
    "#modulus\n",
    "print(10%2)\n"
   ]
  },
  {
   "cell_type": "code",
   "execution_count": 17,
   "id": "da9a9c89-3188-4d02-8d28-ee3b07386799",
   "metadata": {},
   "outputs": [
    {
     "name": "stdout",
     "output_type": "stream",
     "text": [
      "100\n"
     ]
    }
   ],
   "source": [
    "#Exponetiation\n",
    "print(10**2)\n"
   ]
  },
  {
   "cell_type": "code",
   "execution_count": 18,
   "id": "a5120f17-f976-458a-9447-e23a5f29cba3",
   "metadata": {},
   "outputs": [
    {
     "name": "stdout",
     "output_type": "stream",
     "text": [
      "5\n"
     ]
    }
   ],
   "source": [
    "#Floor division\n",
    "print(10//2)\n"
   ]
  },
  {
   "cell_type": "code",
   "execution_count": 19,
   "id": "fb1231fa-7fb3-4bd3-90cf-57b474e15092",
   "metadata": {},
   "outputs": [
    {
     "data": {
      "text/plain": [
       "True"
      ]
     },
     "execution_count": 19,
     "metadata": {},
     "output_type": "execute_result"
    }
   ],
   "source": [
    "#comparison operators\n",
    "#Equal\n",
    "5==5"
   ]
  },
  {
   "cell_type": "code",
   "execution_count": 20,
   "id": "282f225b-4984-4ed2-b587-93fd5ebcfb63",
   "metadata": {},
   "outputs": [
    {
     "data": {
      "text/plain": [
       "False"
      ]
     },
     "execution_count": 20,
     "metadata": {},
     "output_type": "execute_result"
    }
   ],
   "source": [
    "#not equal\n",
    "5!=5"
   ]
  },
  {
   "cell_type": "code",
   "execution_count": 21,
   "id": "f496681b-3d7f-4759-9322-05efd0b6df3d",
   "metadata": {},
   "outputs": [
    {
     "data": {
      "text/plain": [
       "True"
      ]
     },
     "execution_count": 21,
     "metadata": {},
     "output_type": "execute_result"
    }
   ],
   "source": [
    "#greater than\n",
    "5>2"
   ]
  },
  {
   "cell_type": "code",
   "execution_count": 22,
   "id": "a192b414-e644-49ed-874a-2504b8c4a9a1",
   "metadata": {},
   "outputs": [
    {
     "data": {
      "text/plain": [
       "False"
      ]
     },
     "execution_count": 22,
     "metadata": {},
     "output_type": "execute_result"
    }
   ],
   "source": [
    "#less than\n",
    "5<2\n"
   ]
  },
  {
   "cell_type": "code",
   "execution_count": 23,
   "id": "06ede331-d327-4b3a-beb6-9cb8bc630052",
   "metadata": {},
   "outputs": [
    {
     "data": {
      "text/plain": [
       "True"
      ]
     },
     "execution_count": 23,
     "metadata": {},
     "output_type": "execute_result"
    }
   ],
   "source": [
    "#greater than or equal to\n",
    "6>=6"
   ]
  },
  {
   "cell_type": "code",
   "execution_count": 24,
   "id": "f5ad8462-f98d-45ab-8afc-634015ac4836",
   "metadata": {},
   "outputs": [
    {
     "data": {
      "text/plain": [
       "True"
      ]
     },
     "execution_count": 24,
     "metadata": {},
     "output_type": "execute_result"
    }
   ],
   "source": [
    "#less than or equal to\n",
    "6<=7"
   ]
  },
  {
   "cell_type": "code",
   "execution_count": 53,
   "id": "d4a04898-bb03-40fb-a8b5-7e42d2c343f2",
   "metadata": {},
   "outputs": [
    {
     "data": {
      "text/plain": [
       "True"
      ]
     },
     "execution_count": 53,
     "metadata": {},
     "output_type": "execute_result"
    }
   ],
   "source": [
    "#logical operators\n",
    "#And-Returns True if both statements are true\n",
    "a=5\n",
    "a>2 and a<6"
   ]
  },
  {
   "cell_type": "code",
   "execution_count": 54,
   "id": "43997ffa-04c2-41ff-adfd-94893ce86beb",
   "metadata": {},
   "outputs": [
    {
     "data": {
      "text/plain": [
       "True"
      ]
     },
     "execution_count": 54,
     "metadata": {},
     "output_type": "execute_result"
    }
   ],
   "source": [
    "#not-Reverse the result, returns False if the result is true\n",
    "a=2\n",
    "not(a<3 and a<1)"
   ]
  },
  {
   "cell_type": "code",
   "execution_count": 55,
   "id": "5db07762-10d4-4cba-9e65-8d67a27a91c9",
   "metadata": {},
   "outputs": [
    {
     "data": {
      "text/plain": [
       "True"
      ]
     },
     "execution_count": 55,
     "metadata": {},
     "output_type": "execute_result"
    }
   ],
   "source": [
    "#or-Returns True if one of the statements is true\n",
    "x=5\n",
    "x<6 or x>6\n"
   ]
  },
  {
   "cell_type": "code",
   "execution_count": 35,
   "id": "e412883b-ea0c-465c-b827-13c901827e4d",
   "metadata": {},
   "outputs": [
    {
     "data": {
      "text/plain": [
       "False"
      ]
     },
     "execution_count": 35,
     "metadata": {},
     "output_type": "execute_result"
    }
   ],
   "source": [
    "#identity operators\n",
    "#is-Returns True if both variables are the same object\n",
    "x=40\n",
    "y=30\n",
    "x is y"
   ]
  },
  {
   "cell_type": "code",
   "execution_count": 36,
   "id": "3d3ed3bc-81a8-422a-bfd0-2fea8733162e",
   "metadata": {},
   "outputs": [
    {
     "data": {
      "text/plain": [
       "True"
      ]
     },
     "execution_count": 36,
     "metadata": {},
     "output_type": "execute_result"
    }
   ],
   "source": [
    "# is not-Returns True if both variables are not the same object\n",
    "x is not y"
   ]
  },
  {
   "cell_type": "code",
   "execution_count": 46,
   "id": "da60f096-a0e8-4d1d-88b4-6cc06e93da6c",
   "metadata": {},
   "outputs": [
    {
     "data": {
      "text/plain": [
       "True"
      ]
     },
     "execution_count": 46,
     "metadata": {},
     "output_type": "execute_result"
    }
   ],
   "source": [
    "#membership operator\n",
    "#in-Returns True if a sequence with the specified value is present in the object\n",
    "x=(1,2,3,4,5)\n",
    "3 in x"
   ]
  },
  {
   "cell_type": "code",
   "execution_count": 48,
   "id": "4799fced-55dc-4565-8c66-9702b6030c46",
   "metadata": {},
   "outputs": [
    {
     "data": {
      "text/plain": [
       "True"
      ]
     },
     "execution_count": 48,
     "metadata": {},
     "output_type": "execute_result"
    }
   ],
   "source": [
    "#not in-Returns True if a sequence with the specified value is not present in the object\n",
    "7 not in x"
   ]
  },
  {
   "cell_type": "code",
   "execution_count": 49,
   "id": "79399c34-7c47-4ec6-9d99-b5e472b96434",
   "metadata": {},
   "outputs": [
    {
     "data": {
      "text/plain": [
       "False"
      ]
     },
     "execution_count": 49,
     "metadata": {},
     "output_type": "execute_result"
    }
   ],
   "source": [
    "7 in x"
   ]
  },
  {
   "cell_type": "code",
   "execution_count": 40,
   "id": "3d5fe656-7a80-4761-9a36-da24e11a12be",
   "metadata": {},
   "outputs": [
    {
     "data": {
      "text/plain": [
       "1"
      ]
     },
     "execution_count": 40,
     "metadata": {},
     "output_type": "execute_result"
    }
   ],
   "source": [
    "#bitwise operator\n",
    "#And-Sets each bit to 1 if both bits are 1\n",
    "x=5\n",
    "y=3\n",
    "x&y\n"
   ]
  },
  {
   "cell_type": "code",
   "execution_count": 3,
   "id": "295406fd-f56f-45aa-b9cf-2ecc2db34800",
   "metadata": {},
   "outputs": [
    {
     "data": {
      "text/plain": [
       "7"
      ]
     },
     "execution_count": 3,
     "metadata": {},
     "output_type": "execute_result"
    }
   ],
   "source": [
    "#or-Sets each bit to 1 if one of two bits is 1\n",
    "x=5\n",
    "y=3\n",
    "x|y"
   ]
  },
  {
   "cell_type": "code",
   "execution_count": 42,
   "id": "8b1acc95-5c94-49b8-a939-750624dd55bd",
   "metadata": {},
   "outputs": [
    {
     "data": {
      "text/plain": [
       "6"
      ]
     },
     "execution_count": 42,
     "metadata": {},
     "output_type": "execute_result"
    }
   ],
   "source": [
    "#XOR-Sets each bit to 1 if only one of two bits is 1\n",
    "x^y"
   ]
  },
  {
   "cell_type": "code",
   "execution_count": 43,
   "id": "66390a61-f03e-4607-8f5f-04e7d89ce4c7",
   "metadata": {},
   "outputs": [
    {
     "data": {
      "text/plain": [
       "-6"
      ]
     },
     "execution_count": 43,
     "metadata": {},
     "output_type": "execute_result"
    }
   ],
   "source": [
    "#~-Inverts all the bits\n",
    "~x"
   ]
  },
  {
   "cell_type": "code",
   "execution_count": 44,
   "id": "937e0166-bac1-474c-b7e5-c9d6d5a64c48",
   "metadata": {},
   "outputs": [
    {
     "data": {
      "text/plain": [
       "0"
      ]
     },
     "execution_count": 44,
     "metadata": {},
     "output_type": "execute_result"
    }
   ],
   "source": [
    "#>>-Shift right by pushing copies of the leftmost bit in from the left, and let the rightmost bits fall off\n",
    "x>>3\n"
   ]
  },
  {
   "cell_type": "code",
   "execution_count": 45,
   "id": "dcd796b8-f8d0-412a-ac78-d1ddeb08cdc2",
   "metadata": {},
   "outputs": [
    {
     "data": {
      "text/plain": [
       "24"
      ]
     },
     "execution_count": 45,
     "metadata": {},
     "output_type": "execute_result"
    }
   ],
   "source": [
    "#<<-Shift left by pushing zeros in from the right and let the leftmost bits fall off\n",
    "y<<3"
   ]
  }
 ],
 "metadata": {
  "kernelspec": {
   "display_name": "Python 3 (ipykernel)",
   "language": "python",
   "name": "python3"
  },
  "language_info": {
   "codemirror_mode": {
    "name": "ipython",
    "version": 3
   },
   "file_extension": ".py",
   "mimetype": "text/x-python",
   "name": "python",
   "nbconvert_exporter": "python",
   "pygments_lexer": "ipython3",
   "version": "3.11.7"
  }
 },
 "nbformat": 4,
 "nbformat_minor": 5
}
