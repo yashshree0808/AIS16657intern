{
 "cells": [
  {
   "cell_type": "code",
   "execution_count": 2,
   "id": "5f1d1ea6-1415-4e85-a7f5-493db1c5eac4",
   "metadata": {},
   "outputs": [
    {
     "name": "stdout",
     "output_type": "stream",
     "text": [
      "count of each value in column 'A':\n",
      "A\n",
      "4    3\n",
      "2    2\n",
      "1    1\n",
      "3    1\n",
      "5    1\n",
      "Name: count, dtype: int64\n"
     ]
    }
   ],
   "source": [
    "#Data frame operations\n",
    "import pandas as pd\n",
    "#create a sample Dataframe\n",
    "data={'A':[1,2,2,3,4,4,4,5],\n",
    "      'B':['foo','bar','foo','bar','foo','bar','foo','bar']\n",
    "}\n",
    "df=pd.DataFrame(data)\n",
    "\n",
    "#count occurrence of each value in column 'A'\n",
    "count_A=df['A'].value_counts()\n",
    "print(\"count of each value in column 'A':\")\n",
    "print(count_A)"
   ]
  },
  {
   "cell_type": "code",
   "execution_count": 3,
   "id": "f7d9a1c6-ab03-48a1-8c12-eb8d9031a212",
   "metadata": {},
   "outputs": [
    {
     "name": "stdout",
     "output_type": "stream",
     "text": [
      "\n",
      "DataFrame with 'A_squared':\n",
      "   A    B  A_squared\n",
      "0  1  foo          1\n",
      "1  2  bar          4\n",
      "2  2  foo          4\n",
      "3  3  bar          9\n",
      "4  4  foo         16\n",
      "5  4  bar         16\n",
      "6  4  foo         16\n",
      "7  5  bar         25\n"
     ]
    }
   ],
   "source": [
    "#Apply a function to column 'A'(e.g.,square each value)\n",
    "df['A_squared']=df['A'].apply(lambda x: x**2)\n",
    "print(\"\\nDataFrame with 'A_squared':\")\n",
    "print(df)"
   ]
  },
  {
   "cell_type": "code",
   "execution_count": 4,
   "id": "7a0fb83d-7a56-494b-8a7d-542815e2292b",
   "metadata": {},
   "outputs": [
    {
     "name": "stdout",
     "output_type": "stream",
     "text": [
      "\n",
      "unique values in column 'B':\n",
      "['foo' 'bar']\n"
     ]
    }
   ],
   "source": [
    "#find unique values in column 'B'\n",
    "unique_B=df['B'].unique()\n",
    "print(\"\\nunique values in column 'B':\")\n",
    "print(unique_B)"
   ]
  },
  {
   "cell_type": "code",
   "execution_count": 5,
   "id": "1c4352aa-73ff-4509-af84-8d8f7f360df0",
   "metadata": {},
   "outputs": [
    {
     "name": "stdout",
     "output_type": "stream",
     "text": [
      "\n",
      "count of unique values in column 'B':\n",
      "2\n"
     ]
    }
   ],
   "source": [
    "#count unique values in column 'B'\n",
    "unique_count_B=df['B'].nunique()\n",
    "print(\"\\ncount of unique values in column 'B':\")\n",
    "print(unique_count_B)"
   ]
  },
  {
   "cell_type": "code",
   "execution_count": 6,
   "id": "61a7e4e3-494e-4385-bb55-270d2b6f50fb",
   "metadata": {},
   "outputs": [
    {
     "name": "stdout",
     "output_type": "stream",
     "text": [
      "   A    B  A_squared\n",
      "0  1  foo          1\n",
      "1  2  bar          4\n",
      "2  2  foo          4\n",
      "3  3  bar          9\n",
      "4  4  foo         16\n"
     ]
    }
   ],
   "source": [
    "print(df.head())"
   ]
  },
  {
   "cell_type": "code",
   "execution_count": 7,
   "id": "73bcd4dd-f813-432f-ba38-0946b1e7efc3",
   "metadata": {},
   "outputs": [
    {
     "name": "stdout",
     "output_type": "stream",
     "text": [
      "   A    B  A_squared\n",
      "3  3  bar          9\n",
      "4  4  foo         16\n",
      "5  4  bar         16\n",
      "6  4  foo         16\n",
      "7  5  bar         25\n"
     ]
    }
   ],
   "source": [
    "print(df.tail())"
   ]
  },
  {
   "cell_type": "code",
   "execution_count": 8,
   "id": "39316d34-5f7e-4b5d-bb6d-202b07ce66fb",
   "metadata": {},
   "outputs": [
    {
     "name": "stdout",
     "output_type": "stream",
     "text": [
      "<class 'pandas.core.frame.DataFrame'>\n",
      "RangeIndex: 8 entries, 0 to 7\n",
      "Data columns (total 3 columns):\n",
      " #   Column     Non-Null Count  Dtype \n",
      "---  ------     --------------  ----- \n",
      " 0   A          8 non-null      int64 \n",
      " 1   B          8 non-null      object\n",
      " 2   A_squared  8 non-null      int64 \n",
      "dtypes: int64(2), object(1)\n",
      "memory usage: 324.0+ bytes\n",
      "None\n"
     ]
    }
   ],
   "source": [
    "print(df.info())"
   ]
  },
  {
   "cell_type": "code",
   "execution_count": 9,
   "id": "b3e22ec5-5bb3-45e9-bd48-72c4f837636d",
   "metadata": {},
   "outputs": [
    {
     "name": "stdout",
     "output_type": "stream",
     "text": [
      "              A  A_squared\n",
      "count  8.000000   8.000000\n",
      "mean   3.125000  11.375000\n",
      "std    1.356203   8.210403\n",
      "min    1.000000   1.000000\n",
      "25%    2.000000   4.000000\n",
      "50%    3.500000  12.500000\n",
      "75%    4.000000  16.000000\n",
      "max    5.000000  25.000000\n"
     ]
    }
   ],
   "source": [
    "print(df.describe())"
   ]
  },
  {
   "cell_type": "code",
   "execution_count": null,
   "id": "2ca82f4b-8d04-4344-996a-cf292db52a07",
   "metadata": {},
   "outputs": [],
   "source": []
  }
 ],
 "metadata": {
  "kernelspec": {
   "display_name": "Python 3 (ipykernel)",
   "language": "python",
   "name": "python3"
  },
  "language_info": {
   "codemirror_mode": {
    "name": "ipython",
    "version": 3
   },
   "file_extension": ".py",
   "mimetype": "text/x-python",
   "name": "python",
   "nbconvert_exporter": "python",
   "pygments_lexer": "ipython3",
   "version": "3.11.7"
  }
 },
 "nbformat": 4,
 "nbformat_minor": 5
}
