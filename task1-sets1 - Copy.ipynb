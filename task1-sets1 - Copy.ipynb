{
 "cells": [
  {
   "cell_type": "markdown",
   "id": "9efa0b1a-da5e-4dd4-a0ff-13eb7f20e51f",
   "metadata": {},
   "source": [
    "#sets\n",
    "Sets are used to store multiple items in a single variable.\n",
    "set is one of 4 built-in data types in python used to store collections of data,the other 3 are List,Tuple and dictionary all with different qualities and usage.\n",
    "sets are written with curly brackets"
   ]
  },
  {
   "cell_type": "code",
   "execution_count": 1,
   "id": "a0649723-7430-4606-9509-53ea92f5ff4e",
   "metadata": {},
   "outputs": [
    {
     "name": "stdout",
     "output_type": "stream",
     "text": [
      "{'book', 'pencil', 'pen', 'scale', 'notebook'}\n"
     ]
    }
   ],
   "source": [
    "set={\"pen\",\"pencil\",\"notebook\",\"scale\",\"book\"}\n",
    "print(set)"
   ]
  },
  {
   "cell_type": "code",
   "execution_count": 4,
   "id": "c8b9b812-949f-4c38-a420-1f04068853bb",
   "metadata": {},
   "outputs": [
    {
     "name": "stdout",
     "output_type": "stream",
     "text": [
      "{'pen', 'pencil', 'notebook'}\n",
      "{2, 4, 6, 8, 10}\n",
      "{'no', 'yes'}\n"
     ]
    }
   ],
   "source": [
    "#data type\n",
    "#String, int and boolean data types:\n",
    "set1={\"pen\",\"pencil\",\"notebook\",\"pen\"}\n",
    "set2={2,4,6,8,10}\n",
    "set3={\"yes\",\"no\",\"yes\"}\n",
    "print(set1)\n",
    "print(set2)\n",
    "print(set3)"
   ]
  },
  {
   "cell_type": "code",
   "execution_count": 5,
   "id": "49b70546-efa1-4559-8d7c-52aa5f0dd44f",
   "metadata": {},
   "outputs": [
    {
     "name": "stdout",
     "output_type": "stream",
     "text": [
      "<class 'set'>\n"
     ]
    }
   ],
   "source": [
    "#type\n",
    "s={\"pen\",\"pencil\",\"notebook\",\"pen\"}\n",
    "print(type(s))"
   ]
  },
  {
   "cell_type": "code",
   "execution_count": 6,
   "id": "63959ead-8d61-462c-b110-4adbf6952cd6",
   "metadata": {},
   "outputs": [
    {
     "name": "stdout",
     "output_type": "stream",
     "text": [
      "{'notebook', 'pen', 'pencil', 'book'}\n"
     ]
    }
   ],
   "source": [
    "#add()\n",
    "thisset={\"pen\",\"pencil\",\"book\"}\n",
    "thisset.add(\"notebook\")\n",
    "print(thisset)"
   ]
  },
  {
   "cell_type": "code",
   "execution_count": 8,
   "id": "43d414f8-c609-4477-bcf9-9d4bbd5bcaec",
   "metadata": {},
   "outputs": [
    {
     "name": "stdout",
     "output_type": "stream",
     "text": [
      "{'pencil', 'notebook', 'apple', 'pen', 'book'}\n"
     ]
    }
   ],
   "source": [
    "set={\"pen\",\"pencil\",\"notebook\"}\n",
    "mylist=[\"book\",\"apple\"]\n",
    "set.update(mylist)\n",
    "print(set)"
   ]
  },
  {
   "cell_type": "code",
   "execution_count": 9,
   "id": "11ffc242-66ee-4cab-ae0e-64eb88f35006",
   "metadata": {},
   "outputs": [
    {
     "name": "stdout",
     "output_type": "stream",
     "text": [
      "{'pen', 'notebook'}\n"
     ]
    }
   ],
   "source": [
    "#remove()\n",
    "set={\"pen\",\"pencil\",\"notebook\"}\n",
    "set.remove(\"pencil\")\n",
    "print(set)"
   ]
  },
  {
   "cell_type": "markdown",
   "id": "dfe27d78-5f1b-4b97-b18c-a9cb1c531dbf",
   "metadata": {},
   "source": [
    "#update()\n",
    "The update() method inserts all items from one set into another.\n",
    "The update() changes the original set, and does not return a new set."
   ]
  },
  {
   "cell_type": "code",
   "execution_count": 2,
   "id": "adcb14ed-b69e-491a-9a2a-2cee57bff00f",
   "metadata": {},
   "outputs": [
    {
     "name": "stdout",
     "output_type": "stream",
     "text": [
      "{'c', 1, 'a', 2, 3, 'b'}\n"
     ]
    }
   ],
   "source": [
    "set1 = {\"a\", \"b\" , \"c\"}\n",
    "set2 = {1, 2, 3}\n",
    "set1.update(set2)\n",
    "print(set1)"
   ]
  },
  {
   "cell_type": "markdown",
   "id": "0ec7f546-5909-4e4c-a503-e0875a22ed03",
   "metadata": {},
   "source": [
    "#Join Multiple Sets\r\n",
    "All the joining methods and operators can be used to join multiple sets.\n",
    "\r\n",
    "When using a method, just add more sets in the parentheses, separated by commas:"
   ]
  },
  {
   "cell_type": "code",
   "execution_count": 1,
   "id": "398cd2ea-fba2-4fce-85db-9df82d7b104b",
   "metadata": {},
   "outputs": [
    {
     "name": "stdout",
     "output_type": "stream",
     "text": [
      "{1, 2, 3, 'pen', 'd', 'b', 'c', 'a', 'book', 'pencil'}\n"
     ]
    }
   ],
   "source": [
    "set1={\"a\",\"b\",\"c\",\"d\"}\n",
    "set2={1,2,3}\n",
    "set3={\"pen\",\"pencil\",\"book\"}\n",
    "myset=set1.union(set2,set3)\n",
    "print(myset)\n"
   ]
  }
 ],
 "metadata": {
  "kernelspec": {
   "display_name": "Python 3 (ipykernel)",
   "language": "python",
   "name": "python3"
  },
  "language_info": {
   "codemirror_mode": {
    "name": "ipython",
    "version": 3
   },
   "file_extension": ".py",
   "mimetype": "text/x-python",
   "name": "python",
   "nbconvert_exporter": "python",
   "pygments_lexer": "ipython3",
   "version": "3.11.7"
  }
 },
 "nbformat": 4,
 "nbformat_minor": 5
}
