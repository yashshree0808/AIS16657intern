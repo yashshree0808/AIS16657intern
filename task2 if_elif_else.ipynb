{
 "cells": [
  {
   "cell_type": "markdown",
   "id": "3e6146e5-e6e6-4701-89f1-661255048b7e",
   "metadata": {},
   "source": [
    "#if_elif_else\n",
    "The elif keyword is Python's way of saying \"if the previous conditions were not true, then try this condition\".\n",
    "The if_else statement is used to execute a block of code among to alternatives.\n",
    "However,if we need to make a choice between more than two alternatives,we use if_elif_else."
   ]
  },
  {
   "cell_type": "code",
   "execution_count": 2,
   "id": "9bbdee88-3036-49c8-9d8a-5fb5eea2b737",
   "metadata": {},
   "outputs": [
    {
     "name": "stdout",
     "output_type": "stream",
     "text": [
      "a is greater than b\n"
     ]
    }
   ],
   "source": [
    "a=200\n",
    "b=50\n",
    "if(a<b):\n",
    "    print(\"a is less than b\")\n",
    "elif(a==b):\n",
    "    print(\"a is equal to b\")\n",
    "else:\n",
    "    print(\"a is greater than b\")"
   ]
  },
  {
   "cell_type": "code",
   "execution_count": 3,
   "id": "04d39206-f501-49a1-be8f-d66bc8ee8b72",
   "metadata": {},
   "outputs": [
    {
     "name": "stdout",
     "output_type": "stream",
     "text": [
      "a is equal to b\n"
     ]
    }
   ],
   "source": [
    "a=200\n",
    "b=200\n",
    "if(a>b):\n",
    "    print(\"a is greater than b\")\n",
    "elif(a==b):\n",
    "    print(\"a is equal to b\")\n",
    "else:\n",
    "    print(\"a is less than b\")\n",
    "    "
   ]
  },
  {
   "cell_type": "code",
   "execution_count": 4,
   "id": "3ab4e5e1-8986-4673-a0a3-95612429a448",
   "metadata": {},
   "outputs": [
    {
     "name": "stdout",
     "output_type": "stream",
     "text": [
      "a is less than b\n"
     ]
    }
   ],
   "source": [
    "a=50 \n",
    "b=200\n",
    "if(a==b):\n",
    "    print(\"a is equal to b\")\n",
    "elif(a>b):\n",
    "    print(\"a is greater than b\")\n",
    "else:\n",
    "    print(\"a is less than b\")"
   ]
  },
  {
   "cell_type": "code",
   "execution_count": 5,
   "id": "a6545503-40c9-4dac-98c3-2998f3d6a12c",
   "metadata": {},
   "outputs": [
    {
     "name": "stdout",
     "output_type": "stream",
     "text": [
      "a is positive no.\n"
     ]
    }
   ],
   "source": [
    "a=10\n",
    "if(a>0):\n",
    "    print(\"a is positive no.\")\n",
    "elif(a<0):\n",
    "    print(\"a is negative no.\")\n",
    "else:\n",
    "    print(\"no.is zero\")   "
   ]
  },
  {
   "cell_type": "code",
   "execution_count": 6,
   "id": "d255b90b-d4cd-4961-b069-24fb6fef3729",
   "metadata": {},
   "outputs": [
    {
     "name": "stdout",
     "output_type": "stream",
     "text": [
      "a is negative no.\n"
     ]
    }
   ],
   "source": [
    "a=-10\n",
    "if(a>0):\n",
    "    print(\"a is positive no.\")\n",
    "elif(a<0):\n",
    "    print(\"a is negative no.\")\n",
    "else:\n",
    "    print(\"no.is zero\")   "
   ]
  },
  {
   "cell_type": "code",
   "execution_count": 7,
   "id": "5255b800-7fca-4072-b3f6-2383b45babc6",
   "metadata": {},
   "outputs": [
    {
     "name": "stdout",
     "output_type": "stream",
     "text": [
      "no.is zero\n"
     ]
    }
   ],
   "source": [
    "a=0\n",
    "if(a>0):\n",
    "    print(\"a is positive no.\")\n",
    "elif(a<0):\n",
    "    print(\"a is negative no.\")\n",
    "else:\n",
    "    print(\"no.is zero\")"
   ]
  },
  {
   "cell_type": "code",
   "execution_count": 12,
   "id": "410272ea-caa5-457a-b51f-5179b393f335",
   "metadata": {},
   "outputs": [
    {
     "name": "stdout",
     "output_type": "stream",
     "text": [
      "even no.\n"
     ]
    }
   ],
   "source": [
    "a=10\n",
    "if(a%2==0):\n",
    "    print(\"even no.\")\n",
    "elif(a%2!=0):\n",
    "    print(\"odd no.\")\n",
    "else:\n",
    "    print(\"no. is zero\")"
   ]
  },
  {
   "cell_type": "code",
   "execution_count": 9,
   "id": "bf8101fc-6136-40db-95ff-5ead58b321cd",
   "metadata": {},
   "outputs": [
    {
     "name": "stdout",
     "output_type": "stream",
     "text": [
      "odd no.\n"
     ]
    }
   ],
   "source": [
    "a=13\n",
    "if(a%2==0):\n",
    "    print(\"even no.\")\n",
    "elif(a%2!=0):\n",
    "    print(\"odd no.\")\n",
    "else:\n",
    "    print(\"no. is zero\")"
   ]
  },
  {
   "cell_type": "code",
   "execution_count": 13,
   "id": "e918310f-dfed-45cd-81a6-bc7392ab7e8f",
   "metadata": {},
   "outputs": [
    {
     "name": "stdout",
     "output_type": "stream",
     "text": [
      "Looking around in the bed\n"
     ]
    }
   ],
   "source": [
    "room=\"bed\"\n",
    "if(room==\"kitchen\"):\n",
    "    print(\"Looking around in the kitchen\")\n",
    "elif(room==\"bed\"):\n",
    "    print(\"Looking around in the bed\")\n",
    "else:\n",
    "    print(\" looking around elsewhere\")   "
   ]
  },
  {
   "cell_type": "code",
   "execution_count": 21,
   "id": "08045c75-3463-407e-9480-dd8f314d0cb0",
   "metadata": {},
   "outputs": [
    {
     "name": "stdout",
     "output_type": "stream",
     "text": [
      "pass\n"
     ]
    }
   ],
   "source": [
    "percentage=55\n",
    "if(percentage>=70):\n",
    "    print(\"destinction\")\n",
    "elif(percentage>=40):\n",
    "    print(\"pass\")\n",
    "else:\n",
    "    print(\"fail\")"
   ]
  },
  {
   "cell_type": "code",
   "execution_count": null,
   "id": "2ef0593d-3c33-4e5f-8762-64e792eda95f",
   "metadata": {},
   "outputs": [],
   "source": []
  }
 ],
 "metadata": {
  "kernelspec": {
   "display_name": "Python 3 (ipykernel)",
   "language": "python",
   "name": "python3"
  },
  "language_info": {
   "codemirror_mode": {
    "name": "ipython",
    "version": 3
   },
   "file_extension": ".py",
   "mimetype": "text/x-python",
   "name": "python",
   "nbconvert_exporter": "python",
   "pygments_lexer": "ipython3",
   "version": "3.11.7"
  }
 },
 "nbformat": 4,
 "nbformat_minor": 5
}
