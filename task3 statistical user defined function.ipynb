{
 "cells": [
  {
   "cell_type": "markdown",
   "id": "a0b2962b-c5cf-44b3-9cf8-06c2733b1250",
   "metadata": {},
   "source": [
    "#statistical user define function In python,a user defined function's declaration begins with the keyword def and followed by the function name.\n",
    "the function may take arguments(s) as input within the opening and closing prenthesis,just after the function name followed by a colon.creating a user defined statistical function that can calculate various statistical measures based on a given dataset,statistical measures such as mean,median,standard deviation,etc.\n"
   ]
  },
  {
   "cell_type": "code",
   "execution_count": 2,
   "id": "f3c2c238-0685-40e4-9bdf-58c9299b3312",
   "metadata": {},
   "outputs": [
    {
     "name": "stdout",
     "output_type": "stream",
     "text": [
      "mean: 300\n"
     ]
    }
   ],
   "source": [
    "import statistics\n",
    "def calculate_mean(data):\n",
    "  return statistics.mean(data)\n",
    "#Example\n",
    "data=[100,200,300,400,500]\n",
    "mean_value=calculate_mean(data)\n",
    "print(\"mean:\",mean_value)"
   ]
  },
  {
   "cell_type": "code",
   "execution_count": 2,
   "id": "0978f245-592f-46dc-8408-129eb476da6f",
   "metadata": {},
   "outputs": [
    {
     "name": "stdout",
     "output_type": "stream",
     "text": [
      "median: 300\n"
     ]
    }
   ],
   "source": [
    "import statistics\n",
    "def calculate_median(data):\n",
    "    return statistics.mean(data)\n",
    "#Example\n",
    "data=[100,200,300,400,500]\n",
    "median_value=calculate_median(data)\n",
    "print(\"median:\",median_value)"
   ]
  },
  {
   "cell_type": "code",
   "execution_count": 4,
   "id": "bb0353c8-5f50-4264-a9e5-16626e97ac04",
   "metadata": {},
   "outputs": [
    {
     "name": "stdout",
     "output_type": "stream",
     "text": [
      "mode: 300\n"
     ]
    }
   ],
   "source": [
    "import statistics\n",
    "def calculate_mode(data):\n",
    "    return statistics.mode(data)\n",
    "#Example\n",
    "data=[100,200,300,300,400,500,500]\n",
    "mode_value=calculate_mode(data)\n",
    "print(\"mode:\",mode_value)"
   ]
  },
  {
   "cell_type": "code",
   "execution_count": 5,
   "id": "21f833dc-0249-4606-90a4-c5ffdaa97788",
   "metadata": {},
   "outputs": [
    {
     "name": "stdout",
     "output_type": "stream",
     "text": [
      "standard deviation: 158.11388300841898\n"
     ]
    }
   ],
   "source": [
    "import statistics\n",
    "def calculate_std_deviation(data):\n",
    "    return statistics.stdev(data)\n",
    "#Example\n",
    "data=[100,200,300,400,500]\n",
    "std_deviation_value=calculate_std_deviation(data)\n",
    "print(\"standard deviation:\",std_deviation_value)"
   ]
  },
  {
   "cell_type": "code",
   "execution_count": 6,
   "id": "0cc9dd73-467e-4599-8f53-3ed5351e740c",
   "metadata": {},
   "outputs": [
    {
     "name": "stdout",
     "output_type": "stream",
     "text": [
      "variance: 25000\n"
     ]
    }
   ],
   "source": [
    "import statistics\n",
    "def calculate_variance(data):\n",
    "    return statistics.variance(data)\n",
    "#Example\n",
    "data=[100,200,300,400,500]\n",
    "variance_value=calculate_variance(data)\n",
    "print(\"variance:\",variance_value)"
   ]
  },
  {
   "cell_type": "code",
   "execution_count": 7,
   "id": "d1add26e-5523-47f6-9f92-b04dc2cd5ad2",
   "metadata": {},
   "outputs": [
    {
     "name": "stdout",
     "output_type": "stream",
     "text": [
      "Range: 400\n"
     ]
    }
   ],
   "source": [
    "import statistics\n",
    "def calculate_range(data):\n",
    "    return max(data)-min(data)\n",
    "#Example\n",
    "data=[100,200,300,400,500]\n",
    "range_value=calculate_range(data)\n",
    "print(\"Range:\",range_value)"
   ]
  },
  {
   "cell_type": "code",
   "execution_count": 9,
   "id": "ce8ad019-6706-4ba9-be60-75d72ead56aa",
   "metadata": {},
   "outputs": [
    {
     "name": "stdout",
     "output_type": "stream",
     "text": [
      "Interquartile Range(IQR): 200.0\n"
     ]
    }
   ],
   "source": [
    "import numpy as np\n",
    "def calculate_iqr(data):\n",
    "    q1,q3=np.percentile(data,[25,75])\n",
    "    return q3-q1\n",
    "#Example\n",
    "data=[100,200,300,400,500]\n",
    "iqr_value=calculate_iqr(data)\n",
    "print(\"Interquartile Range(IQR):\",iqr_value)"
   ]
  },
  {
   "cell_type": "code",
   "execution_count": 10,
   "id": "e0c42aa9-b702-497d-87d5-c315be025a14",
   "metadata": {},
   "outputs": [
    {
     "name": "stdout",
     "output_type": "stream",
     "text": [
      "Quartiles: [200. 300. 400.]\n"
     ]
    }
   ],
   "source": [
    "import numpy as np\n",
    "def calculate_quartiles(data):\n",
    "    return np.percentile(data,[25,50,75])\n",
    "#Example\n",
    "data=[100,200,300,400,500]\n",
    "quartiles=calculate_quartiles(data)\n",
    "print(\"Quartiles:\",quartiles)"
   ]
  },
  {
   "cell_type": "code",
   "execution_count": 12,
   "id": "56744a6a-55ed-4444-a431-6aac829fdb1c",
   "metadata": {},
   "outputs": [
    {
     "name": "stdout",
     "output_type": "stream",
     "text": [
      "coefficient of variation: 100.0\n"
     ]
    }
   ],
   "source": [
    "def calculate_coefficient_of_variation(data):\n",
    "    mean=statistics.stdev(data)\n",
    "    std_dev=statistics.stdev(data)\n",
    "    return(std_dev/mean)*100 if mean!=0 else 0\n",
    "#Example\n",
    "data=[100,200,300,400,500]\n",
    "cv_value=calculate_coefficient_of_variation(data)\n",
    "print(\"coefficient of variation:\",cv_value)"
   ]
  },
  {
   "cell_type": "code",
   "execution_count": 14,
   "id": "8ec46914-02df-42bb-baab-b222b4b52245",
   "metadata": {},
   "outputs": [
    {
     "name": "stdout",
     "output_type": "stream",
     "text": [
      "skewness: 0.0\n"
     ]
    }
   ],
   "source": [
    "from scipy.stats import skew\n",
    "def calculate_skewness(data):\n",
    "    return skew(data)\n",
    "data=[100,200,300,400,500]\n",
    "skewness_value=calculate_skewness(data)\n",
    "print(\"skewness:\",skewness_value)"
   ]
  }
 ],
 "metadata": {
  "kernelspec": {
   "display_name": "Python 3 (ipykernel)",
   "language": "python",
   "name": "python3"
  },
  "language_info": {
   "codemirror_mode": {
    "name": "ipython",
    "version": 3
   },
   "file_extension": ".py",
   "mimetype": "text/x-python",
   "name": "python",
   "nbconvert_exporter": "python",
   "pygments_lexer": "ipython3",
   "version": "3.11.7"
  }
 },
 "nbformat": 4,
 "nbformat_minor": 5
}
