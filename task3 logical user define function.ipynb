{
 "cells": [
  {
   "cell_type": "code",
   "execution_count": null,
   "id": "4df8ae9d-cc85-4ebf-8a00-15ae0fec24b1",
   "metadata": {},
   "outputs": [],
   "source": []
  },
  {
   "cell_type": "code",
   "execution_count": 1,
   "id": "c63b9028-2181-4336-905f-cd2d37db0417",
   "metadata": {},
   "outputs": [
    {
     "name": "stdin",
     "output_type": "stream",
     "text": [
      "enter english marks 78\n",
      "enter marathi marks 86\n",
      "enter physics marks 88\n"
     ]
    },
    {
     "name": "stdout",
     "output_type": "stream",
     "text": [
      "percentage are 84.0\n",
      "grade is: A\n"
     ]
    }
   ],
   "source": [
    "#1\n",
    "def per(eng,mar,hindi):\n",
    "    percentage=(eng+mar+hindi)/3\n",
    "    return percentage\n",
    "m1=int(input(\"enter english marks\"))\n",
    "m2=int(input(\"enter marathi marks\"))\n",
    "m3=int(input(\"enter physics marks\"))\n",
    "result=per(m1,m2,m3)\n",
    "print(\"percentage are\",result)\n",
    "def grade_letter(score):\n",
    "    if score>75: \n",
    "        return \"A\"\n",
    "    elif score>50 and score<75:\n",
    "        return \"B\"\n",
    "    else:\n",
    "        return \"c\"\n",
    "def display_grade(result):\n",
    "    grade=grade_letter(result)\n",
    "    print(\"grade is:\",grade)\n",
    "display_grade(result)"
   ]
  },
  {
   "cell_type": "code",
   "execution_count": 2,
   "id": "669b8176-dbd2-48b0-aad9-06204390142f",
   "metadata": {},
   "outputs": [
    {
     "name": "stdin",
     "output_type": "stream",
     "text": [
      "enter a num 6\n"
     ]
    },
    {
     "name": "stdout",
     "output_type": "stream",
     "text": [
      "factorial is : 720\n"
     ]
    }
   ],
   "source": [
    "#2\n",
    "def factorial(n):\n",
    "    fact=1\n",
    "    for i in range(1,n+1):\n",
    "        fact=fact*i\n",
    "    return fact\n",
    "number=int(input(\"enter a num\"))\n",
    "f=factorial(number)\n",
    "print(\"factorial is :\",f)"
   ]
  },
  {
   "cell_type": "code",
   "execution_count": 3,
   "id": "3a55814b-ce80-4923-8376-264670a7e71d",
   "metadata": {},
   "outputs": [
    {
     "name": "stdin",
     "output_type": "stream",
     "text": [
      "enter radius 6\n"
     ]
    },
    {
     "name": "stdout",
     "output_type": "stream",
     "text": [
      "113.04\n"
     ]
    }
   ],
   "source": [
    "#3\n",
    "def area(r):\n",
    "    pi=3.14\n",
    "    a=pi*r**2\n",
    "    return a\n",
    "rad=int(input(\"enter radius\"))\n",
    "print(area(rad))"
   ]
  },
  {
   "cell_type": "code",
   "execution_count": 4,
   "id": "5bfb389c-fdaa-4fce-8c96-2d7821110677",
   "metadata": {},
   "outputs": [
    {
     "name": "stdin",
     "output_type": "stream",
     "text": [
      "enter a string yashshree\n"
     ]
    },
    {
     "name": "stdout",
     "output_type": "stream",
     "text": [
      "10\n"
     ]
    }
   ],
   "source": [
    "#4\n",
    "def vowel_count(s):\n",
    "    c=0\n",
    "    vowels=\"aeiouAEIOU\"\n",
    "    for char in vowels:\n",
    "        c=c+1\n",
    "    return c\n",
    "st=input(\"enter a string\")\n",
    "v_count=vowel_count(st)\n",
    "print(v_count)"
   ]
  },
  {
   "cell_type": "code",
   "execution_count": 5,
   "id": "5ec477b1-4f43-46fe-8031-510827a68230",
   "metadata": {},
   "outputs": [
    {
     "name": "stdin",
     "output_type": "stream",
     "text": [
      "enter a number 20\n"
     ]
    },
    {
     "name": "stdout",
     "output_type": "stream",
     "text": [
      "it is not prime\n"
     ]
    }
   ],
   "source": [
    "#5\n",
    "def prime(n):\n",
    "    if n<=1:\n",
    "        return \"not prime\"\n",
    "    else:\n",
    "        i=2\n",
    "        while i<n:\n",
    "            if n%i==0:\n",
    "                return \"it is not prime\"\n",
    "            else:\n",
    "                return \"it is prime\"\n",
    "            i=i+1\n",
    "num=int(input(\"enter a number\"))\n",
    "print(prime(num))"
   ]
  },
  {
   "cell_type": "code",
   "execution_count": 8,
   "id": "6e3b5078-78c5-457e-b6f3-e7e11019ae38",
   "metadata": {},
   "outputs": [
    {
     "name": "stdout",
     "output_type": "stream",
     "text": [
      "maximum num: 18\n"
     ]
    }
   ],
   "source": [
    "#6\n",
    "def max(n):\n",
    "    m=n[0]\n",
    "    for x in n:\n",
    "        if x>m:\n",
    "            m=x\n",
    "    return m\n",
    "l=[3,18,3,5,6]\n",
    "max_num=max(l)\n",
    "print(\"maximum num:\",max_num)"
   ]
  },
  {
   "cell_type": "code",
   "execution_count": 6,
   "id": "176729e8-4f37-4f6f-8491-e9f0b2584db0",
   "metadata": {},
   "outputs": [
    {
     "name": "stdout",
     "output_type": "stream",
     "text": [
      "The area of triangle with base 8 is 20.0\n"
     ]
    }
   ],
   "source": [
    "#7\n",
    "def calculate_triangle_area(base,height):\n",
    "    area=0.5*base*height\n",
    "    return area\n",
    "base_length=5\n",
    "height_length=8\n",
    "triangle_area=calculate_triangle_area(base_length,height_length)\n",
    "print(\"The area of triangle with base\",base_length and height_length,\"is\",triangle_area)"
   ]
  },
  {
   "cell_type": "code",
   "execution_count": 7,
   "id": "11b86c12-9821-417c-824b-dd5ffff29afa",
   "metadata": {},
   "outputs": [
    {
     "name": "stdout",
     "output_type": "stream",
     "text": [
      "average 70.0\n"
     ]
    }
   ],
   "source": [
    "#8\n",
    "def average(a,b,c):\n",
    "    a=(a+b+c)/3\n",
    "    return a\n",
    "n1=70\n",
    "n2=70\n",
    "n3=70\n",
    "avg=average(n1,n2,n3)\n",
    "print(\"average\",avg)"
   ]
  },
  {
   "cell_type": "code",
   "execution_count": 9,
   "id": "6bc7955e-ab98-4b60-97e6-06e348ede717",
   "metadata": {},
   "outputs": [
    {
     "name": "stdin",
     "output_type": "stream",
     "text": [
      "enter day num 3\n"
     ]
    },
    {
     "name": "stdout",
     "output_type": "stream",
     "text": [
      "other day\n"
     ]
    }
   ],
   "source": [
    "#9\n",
    "def daynum(d):\n",
    "    if d==1:\n",
    "        print(\"monday\")\n",
    "    elif d==2:\n",
    "        print(\"tuesday\")\n",
    "    else:\n",
    "        print(\"other day\")\n",
    "day=int(input(\"enter day num\"))\n",
    "daynum(day)"
   ]
  },
  {
   "cell_type": "code",
   "execution_count": 12,
   "id": "e11e91af-c6a7-47d9-b271-214a833c634d",
   "metadata": {},
   "outputs": [
    {
     "name": "stdin",
     "output_type": "stream",
     "text": [
      "enter a num 145\n"
     ]
    },
    {
     "name": "stdout",
     "output_type": "stream",
     "text": [
      "not armstrong\n"
     ]
    }
   ],
   "source": [
    "#10\n",
    "def Armstrong(n):\n",
    "    temp=n\n",
    "    s=0\n",
    "    while n>0:\n",
    "        d=n%10\n",
    "        s=s+(d**3)\n",
    "        n=n//10\n",
    "    if s==temp:\n",
    "        print(\"armstrong\")\n",
    "    else:\n",
    "        print(\"not armstrong\")\n",
    "num=int(input(\"enter a num\"))\n",
    "result=Armstrong(num)\n",
    "        "
   ]
  },
  {
   "cell_type": "code",
   "execution_count": null,
   "id": "323c396a-4f8b-4247-baca-3352a19f8043",
   "metadata": {},
   "outputs": [],
   "source": []
  }
 ],
 "metadata": {
  "kernelspec": {
   "display_name": "Python 3 (ipykernel)",
   "language": "python",
   "name": "python3"
  },
  "language_info": {
   "codemirror_mode": {
    "name": "ipython",
    "version": 3
   },
   "file_extension": ".py",
   "mimetype": "text/x-python",
   "name": "python",
   "nbconvert_exporter": "python",
   "pygments_lexer": "ipython3",
   "version": "3.11.7"
  }
 },
 "nbformat": 4,
 "nbformat_minor": 5
}
