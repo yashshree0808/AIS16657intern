{
 "cells": [
  {
   "cell_type": "code",
   "execution_count": 2,
   "id": "6d4592af-395a-4598-9cbb-9050bbddd699",
   "metadata": {},
   "outputs": [],
   "source": [
    "import pandas as pd\n",
    "import numpy as np\n",
    "\n",
    "# Create a sample DataFrame with missing values\n",
    "data = {'A': [1, 2, np.nan, 4],\n",
    "        'B': [5, np.nan, np.nan, 8],\n",
    "        'C': [np.nan, 10, 11, 12]}\n",
    "df = pd.DataFrame(data)"
   ]
  },
  {
   "cell_type": "code",
   "execution_count": 3,
   "id": "af6415ab-6f6c-44bf-985f-592121e2066f",
   "metadata": {},
   "outputs": [
    {
     "name": "stdout",
     "output_type": "stream",
     "text": [
      "Missing value checking:\n",
      "       A      B      C\n",
      "0  False  False   True\n",
      "1  False   True  False\n",
      "2   True   True  False\n",
      "3  False  False  False\n"
     ]
    }
   ],
   "source": [
    "# Check for missing values\n",
    "print(\"Missing value checking:\")\n",
    "print(df.isnull())"
   ]
  },
  {
   "cell_type": "code",
   "execution_count": 4,
   "id": "4c6f27ae-bb50-49a4-a7dd-a2794f3cff24",
   "metadata": {},
   "outputs": [
    {
     "name": "stdout",
     "output_type": "stream",
     "text": [
      "\n",
      "Dropping missing values by row:\n",
      "     A    B     C\n",
      "3  4.0  8.0  12.0\n"
     ]
    }
   ],
   "source": [
    "# Drop missing values by row\n",
    "print(\"\\nDropping missing values by row:\")\n",
    "df_drop_row = df.dropna(axis=0)\n",
    "print(df_drop_row)"
   ]
  },
  {
   "cell_type": "code",
   "execution_count": 5,
   "id": "114edec4-332c-43a0-b2d4-cd1140b636c7",
   "metadata": {},
   "outputs": [
    {
     "name": "stdout",
     "output_type": "stream",
     "text": [
      "\n",
      "Dropping missing values by column:\n",
      "Empty DataFrame\n",
      "Columns: []\n",
      "Index: [0, 1, 2, 3]\n"
     ]
    }
   ],
   "source": [
    "# Drop missing values by column\n",
    "print(\"\\nDropping missing values by column:\")\n",
    "df_drop_col = df.dropna(axis=1)\n",
    "print(df_drop_col)"
   ]
  },
  {
   "cell_type": "code",
   "execution_count": 6,
   "id": "af1febfd-8939-48e1-b2a8-ec393e5e676c",
   "metadata": {},
   "outputs": [
    {
     "name": "stdout",
     "output_type": "stream",
     "text": [
      "\n",
      "Filling missing values with mean:\n",
      "          A    B     C\n",
      "0  1.000000  5.0  11.0\n",
      "1  2.000000  6.5  10.0\n",
      "2  2.333333  6.5  11.0\n",
      "3  4.000000  8.0  12.0\n"
     ]
    }
   ],
   "source": [
    "# Fill missing values with mean\n",
    "print(\"\\nFilling missing values with mean:\")\n",
    "df_fill_mean = df.fillna(df.mean())\n",
    "print(df_fill_mean)"
   ]
  },
  {
   "cell_type": "code",
   "execution_count": 7,
   "id": "e9dd041c-a0b6-4c50-aa53-1af12921a132",
   "metadata": {},
   "outputs": [
    {
     "name": "stdout",
     "output_type": "stream",
     "text": [
      "\n",
      "Filling missing values with median:\n",
      "     A    B     C\n",
      "0  1.0  5.0  11.0\n",
      "1  2.0  6.5  10.0\n",
      "2  2.0  6.5  11.0\n",
      "3  4.0  8.0  12.0\n"
     ]
    }
   ],
   "source": [
    "# Fill missing values with median\n",
    "print(\"\\nFilling missing values with median:\")\n",
    "df_fill_median = df.fillna(df.median())\n",
    "print(df_fill_median)"
   ]
  },
  {
   "cell_type": "code",
   "execution_count": null,
   "id": "2caa4d9f-c540-449d-8fdf-af7e21539756",
   "metadata": {},
   "outputs": [],
   "source": []
  }
 ],
 "metadata": {
  "kernelspec": {
   "display_name": "Python 3 (ipykernel)",
   "language": "python",
   "name": "python3"
  },
  "language_info": {
   "codemirror_mode": {
    "name": "ipython",
    "version": 3
   },
   "file_extension": ".py",
   "mimetype": "text/x-python",
   "name": "python",
   "nbconvert_exporter": "python",
   "pygments_lexer": "ipython3",
   "version": "3.11.7"
  }
 },
 "nbformat": 4,
 "nbformat_minor": 5
}
